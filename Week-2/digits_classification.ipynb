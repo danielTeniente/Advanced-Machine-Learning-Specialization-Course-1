{
  "nbformat": 4,
  "nbformat_minor": 0,
  "metadata": {
    "kernelspec": {
      "display_name": "Python 3",
      "language": "python",
      "name": "python3"
    },
    "language_info": {
      "codemirror_mode": {
        "name": "ipython",
        "version": 3
      },
      "file_extension": ".py",
      "mimetype": "text/x-python",
      "name": "python",
      "nbconvert_exporter": "python",
      "pygments_lexer": "ipython3",
      "version": "3.6.5"
    },
    "colab": {
      "name": "digits_classification.ipynb",
      "provenance": []
    }
  },
  "cells": [
    {
      "cell_type": "code",
      "metadata": {
        "id": "KiNleaDNDJy0",
        "colab_type": "code",
        "colab": {
          "base_uri": "https://localhost:8080/",
          "height": 34
        },
        "outputId": "89dbf577-1220-43a6-8707-0772e53a4ff9"
      },
      "source": [
        "# set tf 1.x for colab\n",
        "%tensorflow_version 1.x"
      ],
      "execution_count": 1,
      "outputs": [
        {
          "output_type": "stream",
          "text": [
            "TensorFlow 1.x selected.\n"
          ],
          "name": "stdout"
        }
      ]
    },
    {
      "cell_type": "markdown",
      "metadata": {
        "id": "pjpEY3p8DJy_",
        "colab_type": "text"
      },
      "source": [
        "# MNIST digits classification with TensorFlow"
      ]
    },
    {
      "cell_type": "markdown",
      "metadata": {
        "id": "W5KImwuyDJzB",
        "colab_type": "text"
      },
      "source": [
        "<img src=\"https://github.com/hse-aml/intro-to-dl/blob/master/week2/v2/images/mnist_sample.png?raw=1\" style=\"width:30%\">"
      ]
    },
    {
      "cell_type": "code",
      "metadata": {
        "id": "CO9ihK_fDJzC",
        "colab_type": "code",
        "colab": {
          "base_uri": "https://localhost:8080/",
          "height": 34
        },
        "outputId": "9da6b017-dd7a-4258-99ea-9499ae07f05b"
      },
      "source": [
        "import numpy as np\n",
        "from sklearn.metrics import accuracy_score\n",
        "from matplotlib import pyplot as plt\n",
        "%matplotlib inline\n",
        "import tensorflow as tf\n",
        "print(\"We're using TF\", tf.__version__)\n",
        "\n",
        "import sys\n",
        "sys.path.append(\"../..\")\n",
        "from collections import defaultdict\n",
        "import numpy as np\n",
        "from keras.models import save_model\n",
        "import tensorflow as tf\n",
        "import keras\n",
        "from keras import backend as K\n",
        "from matplotlib import pyplot as plt\n",
        "from IPython.display import clear_output, display_html, HTML\n",
        "import contextlib\n",
        "import time\n",
        "import io\n",
        "import urllib\n",
        "import base64\n",
        "# import grading\n",
        "\n",
        "# import matplotlib_utils\n",
        "# from importlib import reload\n",
        "# reload(matplotlib_utils)\n",
        "\n",
        "# # import grading_utils\n",
        "# # reload(grading_utils)\n",
        "\n",
        "# import keras_utils\n",
        "# from keras_utils import reset_tf_session"
      ],
      "execution_count": 27,
      "outputs": [
        {
          "output_type": "stream",
          "text": [
            "We're using TF 1.15.2\n"
          ],
          "name": "stdout"
        }
      ]
    },
    {
      "cell_type": "markdown",
      "metadata": {
        "id": "4z6JJ56tDJzJ",
        "colab_type": "text"
      },
      "source": [
        "# Fill in your Coursera token and email\n",
        "To successfully submit your answers to our grader, please fill in your Coursera submission token and email"
      ]
    },
    {
      "cell_type": "code",
      "metadata": {
        "id": "hsRAV9fxDJzK",
        "colab_type": "code",
        "colab": {}
      },
      "source": [
        "grader = grading.Grader(assignment_key=\"XtD7ho3TEeiHQBLWejjYAA\", \n",
        "                        all_parts=[\"9XaAS\", \"vmogZ\", \"RMv95\", \"i8bgs\", \"rE763\"])"
      ],
      "execution_count": null,
      "outputs": []
    },
    {
      "cell_type": "code",
      "metadata": {
        "id": "zBBuDveMDJzQ",
        "colab_type": "code",
        "colab": {}
      },
      "source": [
        "# token expires every 30 min\n",
        "COURSERA_TOKEN = \"### YOUR TOKEN HERE ###\"\n",
        "COURSERA_EMAIL = \"### YOUR EMAIL HERE ###\""
      ],
      "execution_count": null,
      "outputs": []
    },
    {
      "cell_type": "markdown",
      "metadata": {
        "id": "Vn2i35ZxDJzX",
        "colab_type": "text"
      },
      "source": [
        "# Look at the data\n",
        "\n",
        "In this task we have 50000 28x28 images of digits from 0 to 9.\n",
        "We will train a classifier on this data."
      ]
    },
    {
      "cell_type": "code",
      "metadata": {
        "id": "WKWQiN7kFP1c",
        "colab_type": "code",
        "colab": {}
      },
      "source": [
        ""
      ],
      "execution_count": null,
      "outputs": []
    },
    {
      "cell_type": "code",
      "metadata": {
        "id": "df5G8DmmFPw4",
        "colab_type": "code",
        "colab": {
          "base_uri": "https://localhost:8080/",
          "height": 34
        },
        "outputId": "3a054a47-8f40-4956-fcf9-762078734153"
      },
      "source": [
        "import keras\n",
        "\n",
        "\n",
        "def load_dataset(flatten=False):\n",
        "    (X_train, y_train), (X_test, y_test) = keras.datasets.mnist.load_data()\n",
        "\n",
        "    # normalize x\n",
        "    X_train = X_train.astype(float) / 255.\n",
        "    X_test = X_test.astype(float) / 255.\n",
        "\n",
        "    # we reserve the last 10000 training examples for validation\n",
        "    X_train, X_val = X_train[:-10000], X_train[-10000:]\n",
        "    y_train, y_val = y_train[:-10000], y_train[-10000:]\n",
        "\n",
        "    if flatten:\n",
        "        X_train = X_train.reshape([X_train.shape[0], -1])\n",
        "        X_val = X_val.reshape([X_val.shape[0], -1])\n",
        "        X_test = X_test.reshape([X_test.shape[0], -1])\n",
        "\n",
        "    return X_train, y_train, X_val, y_val, X_test, y_test"
      ],
      "execution_count": 9,
      "outputs": [
        {
          "output_type": "stream",
          "text": [
            "Using TensorFlow backend.\n"
          ],
          "name": "stderr"
        }
      ]
    },
    {
      "cell_type": "code",
      "metadata": {
        "id": "rp8xekzODJzY",
        "colab_type": "code",
        "colab": {
          "base_uri": "https://localhost:8080/",
          "height": 51
        },
        "outputId": "772d7fb5-b06a-4b23-b504-d8ac7671f45f"
      },
      "source": [
        "# import preprocessed_mnist\n",
        "X_train, y_train, X_val, y_val, X_test, y_test = load_dataset()"
      ],
      "execution_count": 11,
      "outputs": [
        {
          "output_type": "stream",
          "text": [
            "Downloading data from https://s3.amazonaws.com/img-datasets/mnist.npz\n",
            "11493376/11490434 [==============================] - 0s 0us/step\n"
          ],
          "name": "stdout"
        }
      ]
    },
    {
      "cell_type": "code",
      "metadata": {
        "id": "7DRnTRSADJzd",
        "colab_type": "code",
        "colab": {
          "base_uri": "https://localhost:8080/",
          "height": 683
        },
        "outputId": "b966bf09-135c-4cb7-8df4-305929f68bda"
      },
      "source": [
        "# X contains rgb values divided by 255\n",
        "print(\"X_train [shape %s] sample patch:\\n\" % (str(X_train.shape)), X_train[1, 15:20, 5:10])\n",
        "print(\"A closeup of a sample patch:\")\n",
        "plt.imshow(X_train[1, 15:20, 5:10], cmap=\"Greys\")\n",
        "plt.show()\n",
        "print(\"And the whole sample:\")\n",
        "plt.imshow(X_train[1], cmap=\"Greys\")\n",
        "plt.show()\n",
        "print(\"y_train [shape %s] 10 samples:\\n\" % (str(y_train.shape)), y_train[:10])"
      ],
      "execution_count": 12,
      "outputs": [
        {
          "output_type": "stream",
          "text": [
            "X_train [shape (50000, 28, 28)] sample patch:\n",
            " [[0.         0.29803922 0.96470588 0.98823529 0.43921569]\n",
            " [0.         0.33333333 0.98823529 0.90196078 0.09803922]\n",
            " [0.         0.33333333 0.98823529 0.8745098  0.        ]\n",
            " [0.         0.33333333 0.98823529 0.56862745 0.        ]\n",
            " [0.         0.3372549  0.99215686 0.88235294 0.        ]]\n",
            "A closeup of a sample patch:\n"
          ],
          "name": "stdout"
        },
        {
          "output_type": "display_data",
          "data": {
            "image/png": "[encoded data removed]",
            "text/plain": [
              "<Figure size 432x288 with 1 Axes>"
            ]
          },
          "metadata": {
            "tags": [],
            "needs_background": "light"
          }
        },
        {
          "output_type": "stream",
          "text": [
            "And the whole sample:\n"
          ],
          "name": "stdout"
        },
        {
          "output_type": "display_data",
          "data": {
            "image/png": "[encoded data removed]",
            "text/plain": [
              "<Figure size 432x288 with 1 Axes>"
            ]
          },
          "metadata": {
            "tags": [],
            "needs_background": "light"
          }
        },
        {
          "output_type": "stream",
          "text": [
            "y_train [shape (50000,)] 10 samples:\n",
            " [5 0 4 1 9 2 1 3 1 4]\n"
          ],
          "name": "stdout"
        }
      ]
    },
    {
      "cell_type": "markdown",
      "metadata": {
        "id": "hGTkuCgXDJzl",
        "colab_type": "text"
      },
      "source": [
        "# Linear model\n",
        "\n",
        "Your task is to train a linear classifier $\\vec{x} \\rightarrow y$ with SGD using TensorFlow.\n",
        "\n",
        "You will need to calculate a logit (a linear transformation) $z_k$ for each class: \n",
        "$$z_k = \\vec{x} \\cdot \\vec{w_k} + b_k \\quad k = 0..9$$\n",
        "\n",
        "And transform logits $z_k$ to valid probabilities $p_k$ with softmax: \n",
        "$$p_k = \\frac{e^{z_k}}{\\sum_{i=0}^{9}{e^{z_i}}} \\quad k = 0..9$$\n",
        "\n",
        "We will use a cross-entropy loss to train our multi-class classifier:\n",
        "$$\\text{cross-entropy}(y, p) = -\\sum_{k=0}^{9}{\\log(p_k)[y = k]}$$ \n",
        "\n",
        "where \n",
        "$$\n",
        "[x]=\\begin{cases}\n",
        "       1, \\quad \\text{if $x$ is true} \\\\\n",
        "       0, \\quad \\text{otherwise}\n",
        "    \\end{cases}\n",
        "$$\n",
        "\n",
        "Cross-entropy minimization pushes $p_k$ close to 1 when $y = k$, which is what we want.\n",
        "\n",
        "Here's the plan:\n",
        "* Flatten the images (28x28 -> 784) with `X_train.reshape((X_train.shape[0], -1))` to simplify our linear model implementation\n",
        "* Use a matrix placeholder for flattened `X_train`\n",
        "* Convert `y_train` to one-hot encoded vectors that are needed for cross-entropy\n",
        "* Use a shared variable `W` for all weights (a column $\\vec{w_k}$ per class) and `b` for all biases.\n",
        "* Aim for ~0.93 validation accuracy"
      ]
    },
    {
      "cell_type": "code",
      "metadata": {
        "id": "OwrLfdOADJzn",
        "colab_type": "code",
        "colab": {
          "base_uri": "https://localhost:8080/",
          "height": 51
        },
        "outputId": "b38454ae-2061-415e-c0fa-044e9695ed45"
      },
      "source": [
        "X_train_flat = X_train.reshape((X_train.shape[0], -1))\n",
        "print(X_train_flat.shape)\n",
        "\n",
        "X_val_flat = X_val.reshape((X_val.shape[0], -1))\n",
        "print(X_val_flat.shape)"
      ],
      "execution_count": 13,
      "outputs": [
        {
          "output_type": "stream",
          "text": [
            "(50000, 784)\n",
            "(10000, 784)\n"
          ],
          "name": "stdout"
        }
      ]
    },
    {
      "cell_type": "code",
      "metadata": {
        "id": "1v2elpe4DJz1",
        "colab_type": "code",
        "colab": {
          "base_uri": "https://localhost:8080/",
          "height": 85
        },
        "outputId": "a0da760b-4429-425b-d8c3-9adba49ee45d"
      },
      "source": [
        "import keras\n",
        "\n",
        "y_train_oh = keras.utils.to_categorical(y_train, 10)\n",
        "y_val_oh = keras.utils.to_categorical(y_val, 10)\n",
        "\n",
        "print(y_train_oh.shape)\n",
        "print(y_train_oh[:3], y_train[:3])"
      ],
      "execution_count": 14,
      "outputs": [
        {
          "output_type": "stream",
          "text": [
            "(50000, 10)\n",
            "[[0. 0. 0. 0. 0. 1. 0. 0. 0. 0.]\n",
            " [1. 0. 0. 0. 0. 0. 0. 0. 0. 0.]\n",
            " [0. 0. 0. 0. 1. 0. 0. 0. 0. 0.]] [5 0 4]\n"
          ],
          "name": "stdout"
        }
      ]
    },
    {
      "cell_type": "code",
      "metadata": {
        "id": "-wEjdP89GYli",
        "colab_type": "code",
        "colab": {}
      },
      "source": [
        "def reset_tf_session():\n",
        "    curr_session = tf.get_default_session()\n",
        "    # close current session\n",
        "    if curr_session is not None:\n",
        "        curr_session.close()\n",
        "    # reset graph\n",
        "    K.clear_session()\n",
        "    # create new session\n",
        "    config = tf.ConfigProto()\n",
        "    config.gpu_options.allow_growth = True\n",
        "    s = tf.InteractiveSession(config=config)\n",
        "    K.set_session(s)\n",
        "    return s"
      ],
      "execution_count": 19,
      "outputs": []
    },
    {
      "cell_type": "code",
      "metadata": {
        "id": "Bj3ZwxeHDJz9",
        "colab_type": "code",
        "colab": {}
      },
      "source": [
        "# run this again if you remake your graph\n",
        "s = reset_tf_session()"
      ],
      "execution_count": 20,
      "outputs": []
    },
    {
      "cell_type": "code",
      "metadata": {
        "id": "MlxzCg60DJ0I",
        "colab_type": "code",
        "colab": {}
      },
      "source": [
        "# Model parameters: W and b\n",
        "W = tf.get_variable(\"W\",shape=(784,10)) ### tf.get_variable(...) with shape[0] = 784\n",
        "b = tf.get_variable(\"b\",shape=(10,)) ### tf.get_variable(...)"
      ],
      "execution_count": 21,
      "outputs": []
    },
    {
      "cell_type": "code",
      "metadata": {
        "id": "POpD_tg4DJ0S",
        "colab_type": "code",
        "colab": {}
      },
      "source": [
        "# Placeholders for the input data\n",
        "input_X = tf.placeholder(tf.float32,shape=(None,784)) ### tf.placeholder(...) for flat X with shape[0] = None for any batch size\n",
        "input_y = tf.placeholder(tf.int32,shape=(None,10)) ### tf.placeholder(...) for one-hot encoded true labels"
      ],
      "execution_count": 22,
      "outputs": []
    },
    {
      "cell_type": "code",
      "metadata": {
        "id": "6XaJG8mGDJ0e",
        "colab_type": "code",
        "colab": {}
      },
      "source": [
        "# Compute predictions\n",
        "logits =  input_X@W ### logits for input_X, resulting shape should be [input_X.shape[0], 10]\n",
        "probas =tf.nn.softmax(logits) ### YOUR CODE HERE ### apply tf.nn.softmax to logits\n",
        "classes = tf.argmax(probas,axis=1) ### YOUR CODE HERE ### apply tf.argmax to find a class index with highest probability\n",
        "\n",
        "# Loss should be a scalar number: average loss over all the objects with tf.reduce_mean().\n",
        "# Use tf.nn.softmax_cross_entropy_with_logits on top of one-hot encoded input_y and logits.\n",
        "# It is identical to calculating cross-entropy on top of probas, but is more numerically friendly (read the docs).\n",
        "loss = tf.reduce_mean(tf.nn.softmax_cross_entropy_with_logits(labels=input_y,logits=logits))### YOUR CODE HERE ### cross-entropy loss\n",
        "\n",
        "# Use a default tf.train.AdamOptimizer to get an SGD step\n",
        "step = tf.train.AdamOptimizer().minimize(loss) ### optimizer step that minimizes the loss"
      ],
      "execution_count": 25,
      "outputs": []
    },
    {
      "cell_type": "code",
      "metadata": {
        "id": "qYI4X3jpIv8L",
        "colab_type": "code",
        "colab": {}
      },
      "source": [
        "#!/usr/bin/env python\n",
        "# -*- coding: utf-8 -*-\n",
        "\n",
        "def clear_and_display_figure(fig, sleep=0.01):\n",
        "    img_data = io.BytesIO()\n",
        "    fig.savefig(img_data, format='jpeg')\n",
        "    img_data.seek(0)\n",
        "    uri = 'data:image/jpeg;base64,' + urllib.request.quote(base64.b64encode(img_data.getbuffer()))\n",
        "    img_data.close()\n",
        "    clear_output(wait=True)\n",
        "    display_html(HTML('<img src=\"' + uri + '\">'))\n",
        "    time.sleep(sleep)\n",
        "\n",
        "\n",
        "class SimpleMovieWriter(object):\n",
        "    \"\"\"\n",
        "    Usage example:\n",
        "        anim = animation.FuncAnimation(...)\n",
        "        anim.save(None, writer=SimpleMovieWriter(sleep=0.01))\n",
        "    \"\"\"\n",
        "    def __init__(self, sleep=0.1):\n",
        "        self.sleep = sleep\n",
        "\n",
        "    def setup(self, fig):\n",
        "        self.fig = fig\n",
        "\n",
        "    def grab_frame(self, **kwargs):\n",
        "        clear_and_display_figure(self.fig, self.sleep)\n",
        "\n",
        "    @contextlib.contextmanager\n",
        "    def saving(self, fig, *args, **kwargs):\n",
        "        self.setup(fig)\n",
        "        try:\n",
        "            yield self\n",
        "        finally:\n",
        "            pass\n",
        "\n",
        "\n",
        "class SimpleTrainingCurves(object):\n",
        "    def __init__(self, loss_name, metric_name):\n",
        "        self.fig, (self.ax1, self.ax2) = plt.subplots(nrows=1, ncols=2, figsize=(12, 4))\n",
        "        self.ax1.set_title(loss_name)\n",
        "        self.ax2.set_title(metric_name)\n",
        "        self.train_loss_curve, = self.ax1.plot([], [], 'r', label='train', lw=2)\n",
        "        self.valid_loss_curve, = self.ax1.plot([], [], 'g', label='valid', lw=2)\n",
        "        self.train_metric_curve, = self.ax2.plot([], [], 'r', label='train', lw=2)\n",
        "        self.valid_metric_curve, = self.ax2.plot([], [], 'g', label='valid', lw=2)\n",
        "        self.iter = 0\n",
        "        self.y_limits_1 = [None, None]\n",
        "        self.y_limits_2 = [None, None]\n",
        "        plt.close(self.fig)\n",
        "\n",
        "    def _update_y_limits(self, limits, *values):\n",
        "        limits[0] = min(list(values) + ([limits[0]] if limits[0] else []))\n",
        "        limits[1] = max(list(values) + ([limits[1]] if limits[1] else []))\n",
        "\n",
        "    def _update_curve(self, curve, value, label):\n",
        "        x, y = curve.get_data()\n",
        "        curve.set_data(list(x) + [self.iter], list(y) + [value])\n",
        "        curve.set_label(\"{}: {}\".format(label, value))\n",
        "\n",
        "    def _set_y_limits(self, ax, limits):\n",
        "        spread = limits[1] - limits[0]\n",
        "        ax.set_ylim(limits[0] - 0.05*spread, limits[1] + 0.05*spread)\n",
        "\n",
        "    def add(self, train_loss, valid_loss, train_metric, valid_metric):\n",
        "        self._update_curve(self.train_loss_curve, train_loss, \"train\")\n",
        "        self._update_curve(self.valid_loss_curve, valid_loss, \"valid\")\n",
        "        self._update_curve(self.train_metric_curve, train_metric, \"train\")\n",
        "        self._update_curve(self.valid_metric_curve, valid_metric, \"valid\")\n",
        "        self.ax1.set_xlim(0, self.iter)\n",
        "        self.ax2.set_xlim(0, self.iter)\n",
        "        self._update_y_limits(self.y_limits_1, train_loss, valid_loss)\n",
        "        self._update_y_limits(self.y_limits_2, train_metric, valid_metric)\n",
        "        self._set_y_limits(self.ax1, self.y_limits_1)\n",
        "        self._set_y_limits(self.ax2, self.y_limits_2)\n",
        "        clear_and_display_figure(self.fig)\n",
        "        self.ax1.legend()\n",
        "        self.ax2.legend()\n",
        "        self.iter += 1\n"
      ],
      "execution_count": 28,
      "outputs": []
    },
    {
      "cell_type": "code",
      "metadata": {
        "scrolled": false,
        "id": "_8KQiJoSDJ02",
        "colab_type": "code",
        "colab": {
          "base_uri": "https://localhost:8080/",
          "height": 309
        },
        "outputId": "4b77ec03-2519-45aa-b7b0-31e0ff599292"
      },
      "source": [
        "s.run(tf.global_variables_initializer())\n",
        "\n",
        "BATCH_SIZE = 512\n",
        "EPOCHS = 40\n",
        "\n",
        "# for logging the progress right here in Jupyter (for those who don't have TensorBoard)\n",
        "simpleTrainingCurves =SimpleTrainingCurves(\"cross-entropy\", \"accuracy\")\n",
        "\n",
        "for epoch in range(EPOCHS):  # we finish an epoch when we've looked at all training samples\n",
        "    \n",
        "    batch_losses = []\n",
        "    for batch_start in range(0, X_train_flat.shape[0], BATCH_SIZE):  # data is already shuffled\n",
        "        _, batch_loss = s.run([step, loss], {input_X: X_train_flat[batch_start:batch_start+BATCH_SIZE], \n",
        "                                             input_y: y_train_oh[batch_start:batch_start+BATCH_SIZE]})\n",
        "        # collect batch losses, this is almost free as we need a forward pass for backprop anyway\n",
        "        batch_losses.append(batch_loss)\n",
        "\n",
        "    train_loss = np.mean(batch_losses)\n",
        "    val_loss = s.run(loss, {input_X: X_val_flat, input_y: y_val_oh})  # this part is usually small\n",
        "    train_accuracy = accuracy_score(y_train, s.run(classes, {input_X: X_train_flat}))  # this is slow and usually skipped\n",
        "    valid_accuracy = accuracy_score(y_val, s.run(classes, {input_X: X_val_flat}))  \n",
        "    simpleTrainingCurves.add(train_loss, val_loss, train_accuracy, valid_accuracy)"
      ],
      "execution_count": 33,
      "outputs": [
        {
          "output_type": "display_data",
          "data": {
            "text/html": [
              "<img src=\"data:image/jpeg;base64,/9j/4AAQSkZJRgABAQEASABIAAD/2wBDAAIBAQEBAQIBAQECAgICAgQDAgICAgUEBAMEBgUGBgYFBgYGBwkIBgcJBwYGCAsICQoKCgoKBggLDAsKDAkKCgr/2wBDAQICAgICAgUDAwUKBwYHCgoKCgoKCgoKCgoKCgoKCgoKCgoKCgoKCgoKCgoKCgoKCgoKCgoKCgoKCgoKCgoKCgr/wAARCAEgA2ADASIAAhEBAxEB/8QAHwAAAQUBAQEBAQEAAAAAAAAAAAECAwQFBgcICQoL/8QAtRAAAgEDAwIEAwUFBAQAAAF9AQIDAAQRBRIhMUEGE1FhByJxFDKBkaEII0KxwRVS0fAkM2JyggkKFhcYGRolJicoKSo0NTY3ODk6Q0RFRkdISUpTVFVWV1hZWmNkZWZnaGlqc3R1dnd4eXqDhIWGh4iJipKTlJWWl5iZmqKjpKWmp6ipqrKztLW2t7i5usLDxMXGx8jJytLT1NXW19jZ2uHi4%2BTl5ufo6erx8vP09fb3%2BPn6/8QAHwEAAwEBAQEBAQEBAQAAAAAAAAECAwQFBgcICQoL/8QAtREAAgECBAQDBAcFBAQAAQJ3AAECAxEEBSExBhJBUQdhcRMiMoEIFEKRobHBCSMzUvAVYnLRChYkNOEl8RcYGRomJygpKjU2Nzg5OkNERUZHSElKU1RVVldYWVpjZGVmZ2hpanN0dXZ3eHl6goOEhYaHiImKkpOUlZaXmJmaoqOkpaanqKmqsrO0tba3uLm6wsPExcbHyMnK0tPU1dbX2Nna4uPk5ebn6Onq8vP09fb3%2BPn6/9oADAMBAAIRAxEAPwD9/KKKKACiiigAooooAKKKKACiiigAooooAKKKKACiiigAooooAKKKKACiiigAooooAKKKKACiiigAooooAKKKKACiiigAooooAKKKKACiiigAooooAKKKKACiiigAooooAKKKKACiiigAooooAKKKKACiiigAooooAKKKKACiiigAooooAKKKKACiiigAooooAKKKKACiiigAooooAKKKKACiiigAooooAKKKKACiiigAooooAKKKKACiiigAooooAKKKKACiiigAooooAKKKKACiiigAooooAKKKKACiiigAooooAKKKKACiiigAooooAKKKKACiiigAooooAKKKKACiiigAooooAKKKKACuN%2BOP7QHwm/Zx8JW/jT4veJ5dPtL7U4dN0u2stLub%2B91K9lDGO1tLO0jluLudlR2EUMbvtR2xhWI7KvFv2u/gP8VPiX4h%2BGfxl%2BBd14fl8X/CrxjPrWmaJ4tu57bTdYhudLvdMubaW4ghmktH8q9aSOdYZtrR7TGyu2ACjpH/AAUr/Y71rxm3w8tvHviCDW7fSodU1bTtR%2BHOvWkmi2EhuAt3qXn2SDTIAbWcNLdmFEKYYqWUGbwn/wAFH/2NfGfg/wAQ%2BOtM%2BLFza6f4Y0e11fVBrnhPVdMuJNPuXMdreWtvd2sU19bzyAxwy2ySpM5CRlmIB86vP2GPjP8AHW0/aRP7Qt74V8My/tB/CPTvBskfgrWLrUzo7RWusWsr%2BbcWtqZ1VNRiZDsXeyygogxuy9Y/Y2/at%2BM%2Btaz8UP2lPh38G9X1e0%2BE6eBtB8E6d4n1QaRrSy6jaXt5fXd2bBJ9PYmyg%2BzxQw3BtnDP50hIwAeyX/7fP7N2k%2BAbH4h6tdeOLSHVPED6Jpeh3Xwj8SR67e3yW5uXjh0dtPGoShYAZTIluUCKzFsA49P8JeOfDfjbwTY/EPRbi5i0rULBbyCTVNPnsZY4iu7MsFykcsDAfeSRVZSCGAIIr41tv2Gf2tJfgpJ4W8feGPCnjS%2Bh%2BIcut%2BC9B1n9ofxXb3fgOxOmxWoi0/xbHp7atcSGUXcreZDGBHeGENsjGfUvB/7Bmq%2BKfgJo3hb9pz46%2BOPEfj5PhtdeFtf8Q6T8Q9at9Muhc2tzbyTPpa3SWN5MiXTBbq4tmmdoopWKuibADc8Mf8FJP2MvF/h7xJ4s0b4tXK6Z4W8GXni6/vr7wlqtpFe6BaruuNU09p7VBqtogK5nsvPQmSMAkyIG4n40f8FdP2YfAf7M/wATf2gfhW%2Bs%2BM7v4b%2BDYfEjeGW8L6xps2r2Nw7R2t3avNYFrixlkRh9vgjmtkVWdnCqSPHfC/8AwSh%2BNC/BPxf8LPFnh3w9J4h/4UL4j8A%2BC/Hmo/tD%2BNvECSXGpWEdp5h0jVUkttGtpDDE8scEl0yeVGqFggz6P%2B1L/wAE5vih%2B0BYeKtE0Pxj4d0q2179le%2B%2BGlrLM87GDVpLiOWGdo1iANqNhBIbzBnhO9AHqkv/AAUU/ZZt/E3hrwJeav41tvEni7TpdQ0HwpefCTxLDq8tnFd/Y5LmSwk08XNvCkxG6SaNEVGWUkRsrmXwN/wUT/Y7%2BJGqarpXhD4tyXB0rQ9Q1lbufw1qVvaapp1iwS8u9NuZrdYdVhhYqHeyedVLqCfmGcXwR8APjz4x/apsf2oPjn4f8HeH5JPg5f8Ag/VNE8J%2BK7vVTBcy6tHcpJDcz6fZl4mgiUsTGjJIdoV1USHwGb9hz9pf4bfs8%2BF/Cnxo1rwIPCP7N3wP8SaB4L1PwrfXcmpeKd2hHTLe4vbeW2ii04JZozSQxS3QknZXDxqgQgH0D4U/4Kl/sL%2BNPBus/ELQ/jLdrouheDj4tutRv/BmsWcdzoIKB9Vs/PtEN/ZxmRBJPbCWOLcPMZc167a/GD4c3vxcuPgVZ%2BIxN4qtPDUGv3emRWsrCHTp55beGd5QnlL5ksE6ohfe3kyEKQjEfFX7I/7P3xC8WfBL4Q/Hb9t/Uvhlovww%2BG/7L9z4fgk07W5wmr6bqmnaWby%2B1X7VBDDpkEVppyq0CS3CZleRplWNVrsP%2BCK3wr8d6P8As76n8evit4tbxFrHjW%2Bg03w54hlgaOS%2B8I6JF/ZWiXBD8/6VDDNqhPd9WcgKCFAB9lUUUUAFFFFABRRRQAUUUUAFFFFABRRRQAUUUUAFFFFABRRRQAUUUUAFFFFABRRRQAUUUUAFFFFABRRRQAUUUUAFFFFABRRRQAV4jpH/AAUY/Y91K716z1P4pXnh5vDnhy58QahJ418I6roMc2k27pHPf2smpWsC31ujyRK0tsZUBljGcuufab2K5ms5YbO6EEzxMsUxj3%2BWxHDbT1wecd6/MTV/%2BCOX7cvxf1bwvrnxu%2BOOhvrfhrwfqFnqHijUPit4m8TjxDrf2zSr611E6XfRQ2Wk20lzpi%2BfYWQCiOTassgVAoB9sv8At/8A7MNr8NG%2BLGseIPFWlaW2uQaNY2eufDLX7DVNTv5kMkMFlptxYpe37SIGdfs8MgZUdgSEYjovAf7VnwP%2BI%2Bv2XhPw54h1SHV7/wAKT%2BJIdI1rwrqWmXaabDd/ZJZZYby3ikgdZ/kMMirL32bea8m%2BJ3wc/bd%2BMTfD342654N%2BFWh/EP4UeOptY8P%2BGbXxxqV/ouuWdxpN3plzHcXz6VDNYzFL2SSN0tbgRmIKfMEjYq/En4Dftwa/8ZfDv7TXgfRvhXaeLL74Yar4L8Y6FqXivUpLDSFuL%2BG6tb%2ByuE04SagYhG6yW8sVoJS4xLFjkA7jSf8Ago3%2ByB4j17wL4W8K/EbVdZ1P4k%2BDdK8W%2BDdO0TwPrN7PeaHqL7LXUZEgtGa1t92PMknEa24ZTN5QYE7Hw1/bc/Zu%2BK/xGufhP4Z8X6tZ6/b6Xc6nDZeJ/BmraIt/Y28iRz3dlLqNrBHfwRvLEHltmkRfMQkgMpPlH7Cn7CXxY/Zh1/4caz488QeGrs%2BDv2UvCPwxv30i5nlZtW0t5muZovMgj3Wrb02MxV22/NGmBXjXw0/4JV/tjeJ/ij4X8TftTfGGz1SLT/AHivwv408TQfF/xJrV54il1exS2/tO10y%2Bhj0/QjlSxtLRSi5UCZxGq0AfUvhP/gov%2ByP410WPxVoPjvXP7DuNV0vT9P8AEt78P9btdK1GXUr2OyspLS%2Bns0tryCW5mijFxBI8IMqFnCsCfS/C3xd%2BHnjX4geKfhd4X8Q/a9c8FyWcfie0S0mC2Ml1B9ogjMrII3doSshRGZkWSMsFEibvmHxx4E%2BIvhX/AIJ7eNPgR/wUM8T/AAq8EeAtB%2BGkWgW3xM8O%2BLbsM06RpbWupPaXVnAmmzLMLeSGCO4umM5REcnaG7X/AIJX/D74seG/2RNK%2BKv7RVglv8TvixfS%2BOviJCtu0X2e/v1jMNpsb5k%2By2MdlZ7TkgWuDQB9G0UUUAFFFFABRRRQAUUUUAFFFFABRRRQAUUUUAFFFFABRRRQAUUUUAFFFFABRRRQAUUUUAFFFFABRRRQAUUUUAFFFFABRRRQB5h%2B2n8XvFXwD/ZM%2BIfxj8DR2p1vw/4UvLrR3voi9vDdCMiKWVQQWiRyruuRlVYZGcjlP2bdf%2BL7fEL4tfsy/ET44az4quPCJ0qXQ/Hd5pWmW%2BpxRajYFjHJHa2kdm8sM8MsiN9nx5c0SyLIVLv7P408G%2BFfiL4O1b4feOtAtdV0TXdNn0/WNLvYg8N5azRtHLDIp4ZHRmUjuCa5D4Ofst/Bv4C73%2BGmn69BNcXst5f3eq%2BNNV1O41Gd4IbfzLua9uZZLspDbwRRecz%2BSkYWPYMggHm/7DOs/GfxH8RvjLceNP2h/E3j7wd4f8aw%2BF/Bdz4p0rRoJhcWFsp1WdH0uws1dDezyWm2RWKvpjkEbzlfih%2B0b8Z/GP7W2hfsqfs3eIdL8M3C%2BD/EOteJ9Z%2BIfwd128tZnsbvRbeCKwmN3p0FypGpTNJJDLcBfLjB2bst7R8LfhV4C%2BC3guH4ffDTQf7N0mC8u7tLY3Us7NcXVzLdXMryTMzyPJPNLIzMxJaQnNeVfEfXY7D/AIKV/B/Q5QP9P%2BCnxDMbZ53x6r4NbH/fJY/hSbS3LhTnUdoro39yu/wND/hB/wDgoX/0dB8Gf/DD6t/81FH/AAg//BQv/o6D4M/%2BGH1b/wCaivZqKZB4z/wg/wDwUL/6Og%2BDP/hh9W/%2Baij/AIQf/goX/wBHQfBn/wAMPq3/AM1FezUUAeM/8IP/AMFC/wDo6D4M/wDhh9W/%2Baij/hB/%2BChf/R0HwZ/8MPq3/wA1FezUUAeM/wDCD/8ABQv/AKOg%2BDP/AIYfVv8A5qKP%2BEH/AOChf/R0HwZ/8MPq3/zUV7NRQB4z/wAIP/wUL/6Og%2BDP/hh9W/8Amoo/4Qf/AIKF/wDR0HwZ/wDDD6t/81FezUUAeM/8IP8A8FC/%2BjoPgz/4YfVv/moo/wCEH/4KF/8AR0HwZ/8ADD6t/wDNRXs1FAHjP/CD/wDBQv8A6Og%2BDP8A4YfVv/moo/4Qf/goX/0dB8Gf/DD6t/8ANRXs1FAHjP8Awg//AAUL/wCjoPgz/wCGH1b/AOaij/hB/wDgoX/0dB8Gf/DD6t/81FWtf%2BN/7InwptNI0n46fGH4c%2BHNc1DRYNQNt4u8Q2Fpd3EcmR5%2B24dXZGdJAG6ZRhnggZv/AA1//wAE4P8Ao6L4I/8AhbaP/wDHa5p4zB05OM6sU10cop/c5JntYfhviTF0I1qGBrzhJXUo0a0otd1KNGUWtHqm1puWP%2BEH/wCChf8A0dB8Gf8Aww%2Brf/NRR/wg/wDwUL/6Og%2BDP/hh9W/%2Baiq//DX/APwTg/6Oi%2BCP/hbaP/8AHa9O0DRfhZ4r0Ky8U%2BFtJ8P6lpmpWkd1p2o6fBBNBdQSKHjljkQFXRlIZWUkEEEHBq6WJw9dtU5xlbtJP8mznx2TZzlcIzxuFq0lJ2TqU6lNN72TnTgm7a2Tbtra2p5z/wAIP/wUL/6Og%2BDP/hh9W/8Amoo/4Qf/AIKF/wDR0HwZ/wDDD6t/81FeefD7/go1%2Bxf4v8D2fjDxD8PfE%2Bgz6p441rwtomjXPwe1ue81a9064v45FtIodPZ7omHT552WJXMIBjk2SKyjsviF%2B1R%2By14FsvHtpeaJFp%2BseAvCGteIby28WeBNW0mzu7PTF/0ue3upNOcXtvEzRCSWyS6KiaNgj70V9jzTR/4Qf/goX/0dB8Gf/DD6t/8ANRR/wg//AAUL/wCjoPgz/wCGH1b/AOaiqth%2B1Z%2BxhqHxnk/Z%2BhvLf/hKLfxBHoN1H/wg1%2BLCHVX06PUo7FtQa0Fos72kqTJGZQzg4UFgVGz8a/ir8FfhJ%2Bzzrv7Q%2Bj%2BEdG8Uadpdg0mm2%2BhrbSDVbppRBBaxTAFA0lwyQ7idqsxLdDQBQ/4Qf/goX/0dB8Gf/DD6t/8ANRR/wg//AAUL/wCjoPgz/wCGH1b/AOainfs5/ESz%2BK9z4z8F/Fb4G%2BGvCfi7wDr8Wm%2BIdM0nUl1WwdJrG3voLm3u5LS1eSNorkKd8EbLLDKuGVVd/M/gj%2B1z4j%2BOlnp6%2BHv2PvCtlfeOvh1H46%2BEFvf%2BLQseu6I1zbRM%2BoONOLaXPHHfWMzxRpdgLc7Q7OjLQB6V/wAIP/wUL/6Og%2BDP/hh9W/8Amoo/4Qf/AIKF/wDR0HwZ/wDDD6t/81Feaab%2B1/rHiK1tPh54V/ZL8H3fxQuPiTqng%2BXw9J4v2aEkmnaf9vur1dVXTWleBYnihwLMSC6kMLIoR5FxZv8Agol4M1bwvZ/ErwN%2Bytpt74W0XwLoXir4p3mp6vFaXnhm01K8urUw29ulrKmoT2zWN7JOpmt1EcKmN5WkCAA9l/4Qf/goX/0dB8Gf/DD6t/8ANRR/wg//AAUL/wCjoPgz/wCGH1b/AOaivO/CP7aXgzX/AIyWngjWvgD4X07w54h8b%2BK/B/g3VRr8Uuq3%2BseH1vGvVuNN%2ByKLW3ZdOvHimW4mZkEDPHH56Y5r4M/8FF/hx8Qf2HZv22vFvwu%2BEcVjcW2gppWh%2BCPidBrbW%2Bo6tJbQW%2Bn6pcS6daR6ZKlxeWySlvNESmV2wI8MAe0/8IP/AMFC/wDo6D4M/wDhh9W/%2Baij/hB/%2BChf/R0HwZ/8MPq3/wA1FeOfEj9vHRPhz4A%2BGPim8%2BH/AOztLJ8SvEGo6daa8/xzSPwrAlrbyTK8esf2MTPLIYzEIvs6YkyNzY59U8b/ABS1bwJ%2B0b8Lvg7qP7OPhGfw78R4Lq3l8V2viINNYanBp93fPBHZmxAuIPLtQBcGaJsyriI4NAF//hB/%2BChf/R0HwZ/8MPq3/wA1FH/CD/8ABQv/AKOg%2BDP/AIYfVv8A5qK8y8Nft3fC%2BX4kDTviL8FPC3h7wZqfiHxlofhrxD/bcdzqdxeeGJLpdSN1potF%2BywlLG7ljdJ5mKJF5iRNMqjN8Gft6aF4z%2BBVz8adK%2BBXwrvpNQ8TeHtB8LaDoXxPt9Qntr/V7tLaG3154tP2aNLEZoTLHGb05LonmMqCQA9f/wCEH/4KF/8AR0HwZ/8ADD6t/wDNRR/wg/8AwUL/AOjoPgz/AOGH1b/5qK8o8Z/ty%2BHvCv7N%2BrfHub4S/BvTZfB3izWPDXj6x8X/ABSXS7K01SwkZPsun3v9lSjUJZtu6KN47ZzvVWVX3IvdW/x0vJfj58L/AIa3n7LGk6d4Z%2BJ3hK51S01vVdRWHVdNvILVLmSyn0z7IVXakiq0n2kEPlfLIG6gDd/4Qf8A4KF/9HQfBn/ww%2Brf/NRR/wAIP/wUL/6Og%2BDP/hh9W/8AmorzjxL%2B238OPhV8d/Hfwl%2BNHwt%2BHkNh4F8Ca34w1i/8D%2BLl1vUNG0rT1gmVtYsGsLc6XLc204lgTzZxIYpVViFDttfBr43fEL49/Ce/8c/C/wDZ8%2BCOs6xBq8NpDo%2Bj/GNL62sgULzRald22kSfY7yH5Fa3ijuV3OMS7RuoA63/AIQf/goX/wBHQfBn/wAMPq3/AM1FUPA/jj9qzwd%2B1Z4c%2BCPxu%2BI/w98TaN4m%2BHviHXIZvCvw8vtFurS602%2B0S3RWe41e%2BSWN01SUlQiMGiQhsZB0PgR8S/Cn7QP7NQ%2BN2m/DSx8O35/te1ltrSSOdbe90%2B8ubKWS3uURPPgaa1d4ZwqebE0b7V3bQnjj/lIX8L/%2ByM%2BPP/Tt4QoA9mooooAK8n/bc/aD%2BIH7Kv7NniX9oT4f/CfTfGR8JabcaprWkal4pbSAun28Es08kcy2tyXlAjCpFsAYvy6AE16xXlP7bXwC%2BIX7Uv7Mfi39nf4dfE/RvCE3jLRrnSNU1vWvCkusLFZXEEkUoigivbQrN84KyNIyrtOY2zwAaP7Svxz1b4HeFtEbwh4Jg8SeJvFniqz8PeFdEvNWNhbXN7OHkZp7lYZmghighuJndYpW2wkKjMQK8Q1j/gpf42l8Ii78A/s0Q6z4l8PaF4p1f4k%2BHZ/Gv2ZNGh8P6k2m3kVnP9jf%2B0J5545jaq6W0cscRaWS3LKp9N%2BKX7PPxu%2BL/gLQ7fxT8a/C9t408JeItN8QeFvEek%2BAbiOxt9St1kjn8%2Byk1OR57eeGaeExLcRuiSnEpYBh5jrH/BM/xxF4QFp4B/aYg0bxL4h0HxVpHxJ8RT%2BCftKazD4g1JtSvJrOD7Yn9nzwTyTLas73McUcpWWO4KqwAPqfwx4j0fxh4b0/xd4euxcafqtjFeWM4UjzIZUDo2DyMqwPPrXz/wDCbxV%2B3f8AHXR9e8d%2BF/jf8JNA0u3%2BIXirQ9L0q/8Ag/ql/cRWul69f6ZC0twniKBZZHjs1dmWKNdzkBQAK9tvPhP8NdV%2BGSfBnxD4H0vVvCq6XFpr6BrFkl3azWsaqiRSRShlkUBV4YHpXi/7Dnhfw14N/ZSvfA/g7w/ZaRo1j8afHGn2Ok6Xapb21taDx5q0QgjjjAWOMR/IFUABeAMUAdH/AMIP/wAFC/8Ao6D4M/8Ahh9W/wDmoo/4Qf8A4KF/9HQfBn/ww%2Brf/NRT9f8A2oP%2BCfvhTXb3wt4p/aI%2BDmm6npt3Ja6jp2oeLtKhntZ42KSRSRvKGR1YFWVgCCCCMiqn/DX/APwTg/6Oi%2BCP/hbaP/8AHa5XjsCnZ1Yf%2BBx/%2BSPehwrxTUgpwy/ENNJpqhXaaeqaaoNNNNNNNpppptNMsf8ACD/8FC/%2BjoPgz/4YfVv/AJqKP%2BEH/wCChf8A0dB8Gf8Aww%2Brf/NRT9A/ag/4J%2B%2BK9dsvC3hb9oj4OalqepXcdrp2naf4t0qae6nkYJHFHGkpZ3ZiFVVBJJAAyavftV/Ev4Vfsofs3%2BNf2kvFPwuXVtP8FeHrjVbrTdI0QTXFysS52IscbEZOMuRtRcu5VVZhrSr0K6bpzUrdmn%2BTZ5%2BOyvM8rnGGNw9Sk5K6VSE6ba2ulOEG1fS6TV9L30M7/hB/%2BChf/R0HwZ/8MPq3/wA1FH/CD/8ABQv/AKOg%2BDP/AIYfVv8A5qKoaT%2B1n%2Bx/rnjeX4a6X4a1%2BXxDbeHF17UNF/4U1rq3Wn2Dx3bxS3UbaeGtWl%2Bw3KxRzBJJnjEcau7orO0z9pz9mDxNJ4d/4RXTLBDrPjqbwre2HiXwlqOj6jY30ejXWrmFrK5sBMkptbdZlW4W3jeGTzFlZjFHNqcJd/4Qf/goX/0dB8Gf/DD6t/8ANRR/wg//AAUL/wCjoPgz/wCGH1b/AOaiqHwU/a//AGF/2gtGm8R/DbxNpf8AZ0Xh/T9dS/8AEXhG70WC50u%2BZltb2CTUbaBbm3kdSgliLqHwhIYgVd/aN%2BIjfCvX/B/w0%2BEHwA8NeLvGfja9vE0rS9a1VdIsYLWztWuLm5nuks7p0A/cxKqwuWkuI87EDuoA7/hB/wDgoX/0dB8Gf/DD6t/81FH/AAg//BQv/o6D4M/%2BGH1b/wCaiue1/wDak%2BFsH7Fvhr9r/wAJ/BSyvB4vHh230bw7qhgs/Iv9Yv7TT4ILu5Eci28cVzeIs0qrJtWOQosh2q3FWv7bi%2BIr6y%2BFngn9mbwFefEpPF3iDQPEWjX3jlbbQtOn0e1t7u52aoNNeSdmgvLR0jNpG3zTeZ5Qgc0Aerf8IP8A8FC/%2BjoPgz/4YfVv/moo/wCEH/4KF/8AR0HwZ/8ADD6t/wDNRXl3i39sbV7v4P8Awn/aM%2BBf7LXgHxT4J%2BLknhaDQRq3jWTTtZE%2BszRKUW0i0i5gkW2gka4kb7SvyW8%2BANgLd94f%2BMN2/wC0n8RPgP40/Zk0S0s/B/gqw8T%2BH9V0PU11C8120uZ7%2BDy2szaRC2mD2D7UWabeJFyUPFAGn/wg/wDwUL/6Og%2BDP/hh9W/%2Baij/AIQf/goX/wBHQfBn/wAMPq3/AM1Fef8A7Af7ZvgL9uK51%2B3tPg74GtI9F0PR9Ta/8HeKotftbd78XJOl3sn2O2NnqtsLcG4s9snlLcQnzDvxX0j4MGzQzApOyG%2Bu4ogTnaiXMiqv0CgAewoA8u/4Qf8A4KF/9HQfBn/ww%2Brf/NRR/wAIP/wUL/6Og%2BDP/hh9W/8Amor2aigDxn/hB/8AgoX/ANHQfBn/AMMPq3/zUUf8IP8A8FC/%2BjoPgz/4YfVv/mor2aigDxn/AIQf/goX/wBHQfBn/wAMPq3/AM1FH/CD/wDBQv8A6Og%2BDP8A4YfVv/mor2aigDxn/hB/%2BChf/R0HwZ/8MPq3/wA1FH/CD/8ABQv/AKOg%2BDP/AIYfVv8A5qK9mooA8Z/4Qf8A4KF/9HQfBn/ww%2Brf/NRR/wAIP/wUL/6Og%2BDP/hh9W/8Amor2aigDxn/hB/8AgoX/ANHQfBn/AMMPq3/zUUf8IP8A8FC/%2BjoPgz/4YfVv/mor2aigDxn/AIQf/goX/wBHQfBn/wAMPq3/AM1FH/CD/wDBQv8A6Og%2BDP8A4YfVv/mor2aigDxn/hB/%2BChf/R0HwZ/8MPq3/wA1FH/CD/8ABQv/AKOg%2BDP/AIYfVv8A5qK9mooA8Z/4Qf8A4KF/9HQfBn/ww%2Brf/NRR/wAIP/wUL/6Og%2BDP/hh9W/8Amor2aigDxn/hB/8AgoX/ANHQfBn/AMMPq3/zUUf8IP8A8FC/%2BjoPgz/4YfVv/mor2SWWKCJpp5FREUl3dsBQO5PavNfHX7aP7IPwzeSHx9%2B1B4A0maPO%2B1vPFtms2R2EfmbyfoKyq16FCN6klFebS/No7sDleZ5pV9ngqE6su1OE5v7oQm/yMX/hB/8AgoX/ANHQfBn/AMMPq3/zUUf8IP8A8FC/%2BjoPgz/4YfVv/morz/xF/wAFnv8AgnhpN8dF8OfGm78U6kf9XpvhLwvqF9JJ/uskPln/AL7qh/w9I8YeLfl%2BDP8AwTh/aA18N/qbzVvCEek2kvoVmmlPHuVFee88ylO0ayk/7t5/%2BkRl%2BZ9hT8LfEKUFOrl1SjF9a3JQVu969Wjp6Jnp/wDwg/8AwUL/AOjoPgz/AOGH1b/5qKt/srfEb40%2BMNY%2BKHgT46a/4X1bVPAPxCi0Oz1Xwn4audJt7q1l0HR9TVnt7i9vGWRZNRlQsJdpWNDtU5z5MP2r/wDgqZ4m58K/8EsbHSIW/wBVdeJfjHpxJHq0MUe9fpmuh/4J16x8Zde1v486v%2B0D4P0jQPF03xmgOraRoWoG6tbfHhHw2IgkrAFyYRGzejMwHArfDY%2Bji6jjCM1pe8oSivvkl%2BR5Od8I5lkGFVfFVsPK75eWliaFaa0bu40pzslazblo2l1PpOiiiu4%2BXCiiigAooooAKKKKACiiigAooooAKKKKACiiigAooooAKKKKACiiigAr5T/aU1/%2Bxv8Agrl%2Byxp2/H9rfDv4nWuM9cDw5Pj/AMg5/CvqyviD9vfWf%2BEd/wCCvv7EmrF9qva/ESzPPX7RZ6PEB%2BbCuPHVPZYbm7OP/pcV%2Bp9FwrhVjs5VDvTr/esPXkvxifb9FFFdh86FFFFABRRRQAUUUUAFFFFABRRRQAUUUUAeZ6l%2BzJ%2Bzb8aNH0HxT8Yv2e/A/izU7fw/a2sGo%2BJfCdnfzxwKpdYlknjZggZ3YKDgF2OMk1S/4YH/AGFf%2BjLPhL/4bnTP/jFcn8Xv%2BCkH7F/7H0vhz4aftF/GX/hHdbvvClnqdrZf8I7qN3vtX3xLJvtbeRBl4ZRtLBvlzjBBPIf8Pzf%2BCWX/AEdF/wCWTrn/AMhV4uIxfDtOvKNedJTT15vZ3v53V7%2BpovEPEZUvqkc4nSVPTkWJqQUetlFV4qO%2Byit9tT1v/hgf9hX/AKMs%2BEv/AIbnTP8A4xXp2gaBoXhTQrLwt4W0W003TNNtI7XTtO0%2B2WGC1gjUJHFHGgCoiqAqqoAAAAGBXyt/w/N/4JZf9HRf%2BWTrn/yFX094B8deFfih4E0X4l%2BBdU%2B3aJ4i0i21PR73yHi%2B0WtxEssUmyRVdNyOp2soYZwQDxXRgcRk9aclg5U20teTlvbz5UtL9xS4uq8Sfup5jLE8mtnXnV5b6XtKrUtfa6SvtfoeE/DD9hfxX4A8eeFNa1P4z6bqGg%2BB/ih4q8X%2BGtLh8ISQXYXXf7Wee0uLk3rpKYpdVYpKkMX7uEIyFmMg8j1r/gjDLr3inx74kvPjt4diuPGXgLx/4X/tq1%2BF6JrdzH4mkVxcarqJvi%2BqPZbRHCgW3Tyxt2pgMPdrD9vz4R6vp1jNpPhTxHNfXWi%2BLdSu9Jl%2BwW8ulp4cvVsNRju5J7tIIGF26QIzS%2BWxJYusau68J4N/4KfeB/jtN8ONR%2BAkFnLY678Z9R8DeN4L%2B%2BsdSl082/g3V/EKG2udKvrizldjaWB3pPMgSaaNgkqnyvSIOuk/YYD%2BIdV18fFDB1P466T8RzENE/1f2LSNP037Bnz/AJt/2DzPOwNvm7fLbbubvPjX8DtQ/aA/Z5134JeP/GMVvf61YNGniDQ9LMAsrpJRNa3UUEssuWhlSF9rOyu0ZzgNgfPHi3/gqtK/wQ8KeNfhF8Kdf8R3uqQfD2TxH4pl8PwW%2BjaK3iS705UguYBqTXMdw1re%2BaqQG6igaaDzZmUkt9IfGH48eH/hJ8AvHnx9utG1K5sfAXh/WNUvrK40%2Ba0luBp0MssqxidFLK3ksElUNG4IZGZSCQDnPgR%2Bz38TPhdqniPxv46%2BK%2Bg%2BI/E/jrxZFqvja/tPB0tjZy2kOmRWFvZWNs19M1oF%2BzwStJLLc7ma4G1RKnk%2BVeDP%2BCdnxx%2BG/wAP5fDHgD9r%2B003WfC/wrPw7%2BDXiMfD3zJfCeitPbs8t1G1%2BRqd8YrKyjE4NtGDao5hYs4bvf2WvjZ8fvEPxU8TfAb9pUeEbnxFo3grw74rtdS8F6Vc2VoLXVZNSgNk0dzc3DvLbz6XNmcOiypNGRFGQy1w3wo/a/8A2jPiV8QtEiuj4KsPDHxQvfGWk/DjZ4fvJb3Q7zRrmaK1uNRb7aqahFcxW087xRLaNCQkIkk3GZQDU8OfsK/FbwX8Kvh5oHgX4z%2BCND8X/C7W7y58La3p3w1vW0ye0vLSW3u4L%2Byn1qS5u5ppJ3unuvtqSPOsbuG/eiXCm/4JaSaT4Ws/hp4G%2BPTWXhfWvAuheFfinZ6n4YF3eeJrTTby6uzPb3CXMSafPctfXsc7GG4UxzKI0iaMMbHw2/a//aJ0rQvivdfE688FeM7zQPiNB4E%2BFCeEfC93of8Awk2u/ZIWuInS41C%2BIhhu5pIZJVYeTHp17KylY8inoX7YH7VWt/sufs9/tFeb8Pon8c%2BKtB0f4k6d/wAI3fMJ/wC0tSt7Lfpjfbh9j2b5pP3/ANpzhFx1agDt7j9hga3%2B1mv7VXiLU/h/FqGjT3t54Vk8PfC9LHVTez2E2nxz6tqJvJH1QQ2tzcxRxqlsuJyW3FUK4Hiv/gnh4s%2BMCeN/FPx6%2BMnhrVfFnii08JxaZd%2BHPh4%2BnaTp7%2BHNXl1jTZJrGfULqS9P2yU%2BaGuUV4FESCLLu2t8Vf2xvH2i/tr/AAy/Z5%2BGPh3R73wnqvja48MfEfXr%2BOVp7bUX8L6vrtrZ2RSRUE0cemQyXBkVwIr%2B3CDczNHwPxE/bp/aX%2BD3jf4q%2BAtR0jQfGFz4N8ATeIdOurf4aa14cjsZFvobYAreXVw2u2scUz3E11p%2B1IxalG2vcRBQD0Hw/wDsj/tD%2BCfA/ibTfBf7QPgNfEPj/wAVajrnjzUdZ%2BEc13ps8l1aW1oIrGwGrx/ZFWK1jLiaa6EsjyO4Jciql/8AsPfFzwzqX7P%2BjfBb9oLw9pfhX4DaTbWNnp3izwDc6vqWsiPS5dKkeS9i1W1SItaS5H%2BjuVmXzCXU%2BVXli/8ABSD44eK/A%2Bo2Pwe8W%2BDfGt74a%2BMdl4Z8QfEnwF8J9c8S6NPotz4ffVBqNtpWmahLcuUuClk7JdTRqys5ILeXH3X7Sf7ZHxa%2BFX7Ovg39pP4SfEzwZ4x0jVNKtHmWw%2BFeszWfiG5keMM66jDqBg8NWzBiPO1ATRwk/vJDsYEA3tc/4J3%2BEviN%2B0hqnx1%2BLqeBLq1ntdUgsLPwp8OF0jVLr7dZyWDSapqf2uaTUXisp7mCPbHbqouHZlYhNmN8PP8AgnX408FeDNe0XXPip4A8S3938ONA8B6Fb658IvM0RND0qeeSJdR04akP7RuHW4lRnWa3iQ7THAg3q8ngf9uvU/iL%2B2drvwVtfiB4a0Dw54f8aT%2BErfSdT8A6vcXevanDpa3kix60s8enWUwd2K2LxzXEsFq8o2iZfL2fhh8X/wBrfX/i58RP2cNd8Z/DPW/Efhrwdpep2fivQfB2oWumaLqV7JchdNvraTUpnuXEMMVyDHPA5jmQtHEJIncAh8G/sQ/FH4N/s/n4GfAT4veAtCXXLvV7rxxPqXwkN1Y3st8VASwsYNSt4rCGCIeRFDIblfKSJX8xlZ5Jrz9jD4yaD8S/ghrHwt/aE8P2fhP4MeG00aPR/FPgO61XVdZha3jtLmSTUY9Vt0jke3hj2MbaTZLvkYSqwjGb4W/ab/aD8b/8E9vBn7Ug8UeHdE8R3ukQ33ih9L%2BDmu%2BK4Jsl42Sz0nTL9b1cybG3ebP5aBtwIy6%2BTeOf%2BCpH7RGj2/w41uy8FeFNMi8S/DDwZ4o1XT/7Cvtctbu71nUJLW6tH1myuVs/D9vAiI8V9frJDcmZ1i3G3kBAPbPid%2Bw740/aQ8X6tc/tPfGbRtZ8NXHgjxN4U0vRPCPguXSLldO1uKOC4F5dy3919qZIIlCiOO3jMn7xkJVFTlNa/wCCef7ROo%2BA/Gllov7X2g6D4t8baL4b8N6jr3h74YzWVnH4d0hrwi0jtYdWWWK6uFvriKW9iuY2SLy1hSFoo3XqvEXxv/aP8Bftu6P8IvEvxO%2BG958P5/COveLfFIHgi8sL/wAO6PaPBBZ%2BdqEmrSwPJJNcMS5tY1aOxuiAhAx5dcf8FIP2irj4cfF34jR/DXQ9LtvD/ijwjD4BtrrQb67v4NE1ue2iW9vbGKdJ7%2B7EMxuk062EM7F0tAGmG5gD6e8D%2BA9b%2BFv7N8Pw416fwy82h%2BHJrKFfBvhiTRtLit40dYIreykurpoEjhEabfOcEoWG0EIvMeOP%2BUhfwv8A%2ByM%2BPP8A07eEKzv2Ufj/AONP2kf2V9c8f%2BP4dOGo2mq%2BINIafTtFutK%2B0x2dzPbxzS6beSSXWmTOqBmtLh2ljJ%2BbGdo0fHH/ACkL%2BF//AGRnx5/6dvCFAHs1FFFABRRRQAUUUUAFeC/sf/8AJvWr/wDZe/HP/qwNVr3qvBf2P/8Ak3rV/wDsvfjn/wBWBqtAHWa/%2BxN%2Bxl4r1298U%2BKf2R/hjqWp6ldyXWo6jqHgHTpp7qeRi8kskjwlndmJZmYkkkknJqp/wwP%2Bwr/0ZZ8Jf/Dc6Z/8Yrzvx/8A8FlP%2BCbnwv8AHet/DTx1%2B0d9h1vw7q9zpmsWX/CIaxL9nureVopY98doyPtdGG5WKnGQSOayP%2BH5v/BLL/o6L/yydc/%2BQq8GeN4YU2pTo3u739ne/W%2Bm973NP%2BIm4mh%2B6WeTjy6W%2Bt1Va2lrfWFa1rWsrWtZWsvZtA/Ym/Yy8Ka7ZeKfC37I/wAMdN1PTbuO607UdP8AAOnQz2s8bB45Y5EhDI6sAyspBBAIORWt%2B018E7L9pP8AZ08d/s96hr8ukw%2BN/COoaG%2BqwQCV7P7VbvCJghIDlC4baSA23GRnNeNeAf8Agsp/wTc%2BKHjvRfhp4F/aO%2B3a34i1e20zR7L/AIRDWIvtF1cSrFFHvktFRNzuo3MwUZySBzXuPx1%2BMPhz9n34PeI/jf4y0zUbrRvCulS6nrKaVCkk8VnEN08wV3QMscYeVhnO2NtoZsKfQwNbLa0JPByg0nryctr%2BfKlrbuTLiSpxJ%2B9njXieTS7qyq8t9bXlUqWvvZNX3t1PI/EX7E3xC8f6D8XZfHvx9tYvEnxb%2BHem%2BGb7WvCfhWbTYdNksxqIW5iikvp5GRxfgNEZgcRNiQeYNnDfBH/glNF8IvEUPiaH4k%2BELDb8XB45fQfAXwvj0DSIGHhG88OGztrVLyUwhvtQu2lZ5GZ0ZSPnDp6L8Z/%2BCiHwd%2BC2l%2BLtc1Tw3qeoWPgrxbZ%2BG9Y1EeINB0q0e/uNNi1EJDcavqVnDJsgngDAPv3zBUV9khTkbX/go7pPinx9Hf8Agm4tLjwFrngz4Sa74R1WLQpJ7y6/4TDxBq2mlZke7hWOMRWdmVYAvA0kzslzhYK7iTq/gb%2BxR4h%2BAUfgS78I/Fyyub/wN8DdK%2BHVvLqHhd2hu/sckDG%2BaNLtWXesLAQhzsLg%2BY23a3WftG/ALxx8VPEHg/4mfB/4n6d4R8Z%2BCb28fStU1rw0%2Br2M9reWrW9zbT2qXVq7g/uZVZZkKyW8ed6F0bzDwb/wUaPxM/aK8H%2BCPCHwf8TWXgHxH4K8Wa/aeLNU0JZ28Qw6TcadDHPpcdlczTmN/tUreVPbpPMGgaFCCc%2Bk/tSfGj4gfD3RvAvhb4OJpEPij4k%2BN7fw7oWoeJ9LnuLLTc2V5qE9zPaxzW8s221sLgLEJYiZGQFlGaAKfh39ljWPAX7Ltr%2Byt4M8U%2BF9Q0PTPA9hoVj/AMJ34JbWI7yePcLu51CBbyCO7juE25gQQ7HMjb3V1RPO7P8A4JrxeG/2eX%2BC/hG9%2BEj3mreMpvEniOfxN8D4dR0ZLt4Et4jpmki/ij0428ENtFAXkuNqQfOJWdnPQ6V%2B118U3/YJ8a/tHv8ADuy1jxx4F/4SvTL7RNHhuBZ6hqeh6lfabLNDGDJOtvLJZGcRAySrG%2BzLuMnk/gj%2B2Z8R/j14P%2BJmj%2BCv2mvhBdX/AMMNQsrvUPilpfga9vvDOo6PPp5umaO2TWVZJYZEnjeRb2aMeQcqHZo4gD0jwr%2BxR4T8FXvwN0Tw/wCK7j/hE/gToFza%2BH9AvLUSzXuoHT49NtdRluNwG%2BKzk1FCvlnzHvy%2B5PL2vl65%2ByX8bvFP7UvjP40a7%2B0D4ei8I%2BM/h7F4On8M6R4DurbV7KyiN/JFNFqp1V4xcCbUJWL/AGPaVRFVUYGQ/O/xR/4KY/tl/Cj9m/4bfEnxd4T8IWfiTxP8HtT8d6rbw/DnWL62nkjkt3tNMmitr9m8PRm3uoxcarfSy2cEgbcQFwfX/Dn7emo%2BN/2ztY%2BB1v4%2B8MeG/D3hnxZZ%2BF7iy1LwNq1/Nr2pz6Rb6l5cOtRTxadpz4u0jitpkmmuPs8jKqrJGaAOx/ZO/Y%2B8Z/ALxhc%2BPfiR8W9H8TakngHRPBmkp4c8FHQraHS9Me6eBp4jd3Pn3LNdPl1aOJVAEcMe593sng//AJBM3/YVvv8A0rlrUrL8H/8AIJm/7Ct9/wClctAGpRRRQAUUUUAFFFFABRRRQAUUV5d8ZP22f2R/2fZJbX4x/tF%2BEdCu4QfM0251mN7wY64toy0p/BayrV6GHhz1ZKK7tpL8Wjuy7K8zzfErD4ChOtUf2acJTl90Iyfzsl5nqNFfI8n/AAV5%2BGPxBc2P7JH7OfxV%2BL1w5IgvvDvg%2Ba00zPrJd3YTyl9yhpE8V/8ABZn40fv9B%2BF3wi%2BDWmS/8s/Eur3Gv6tED0K/ZQLYn1DAV539tYKpph1Kr/gi5L/wL3Y/%2BTM%2Bz/4hnxLhVzZtKjgV/wBRNanSn/4JTq1/k6MfkfXNc748%2BL/wm%2BFdt9t%2BJ/xQ8O%2BHIdu7zde1uCzXb65ldRivmlv%2BCd/7UvxT5/af/wCCnPxI1W3k5m0n4dafa%2BGICP8AnmzQB2kTsc4JHpXR%2BAP%2BCQv/AAT08B3J1Sb9new8SalI%2B%2B61Txne3GrTXL/3nFy7xk/RQPaj61m1b%2BFh1Bd5zX/pMFJ/%2BTB/Yfh7l3%2B%2B5vPES/lwuHlb/wAG4qVGPzVJh48/4K%2B/8E7vAd0NLH7R2na/qDttt9P8IWNzq0k7f3Ua1jdM/VgPeucP/BS342/Ev9x%2By5/wTX%2BLnibfxBqXjOCDwzYS%2BjpNcs%2B5fwBr6X8B/CT4U/Cy1%2Bw/DH4ZeHvDkG3b5Og6LBZpj0xEijFdDR9Wzer/ABMRGC/uQ1/8Cm5f%2Bkh/bfh1l/8AueUVMRLvicS0vnTwtOkvk6vzPklW/wCC1fxOHnhPgV8MLGX7sEhv9Z1KD/eIxbtj2o/4YU/bt8d/N8af%2BCrHi/ypPv2XgDwZYaH5Q/urMhdz/vEZr62oo/sehP8Ai1Kk/WpJL7o8iD/iI%2Ba4fTL8Hg8Muns8JRlJf9v11iZ387ps%2BS4v%2BCM37KniKVbj47eO/in8UpAwZm%2BIHxHvbgM3XJEBh79q9L8C/wDBOX9g74bpGPCn7I3gFHix5dxfeG4LyZfcS3Cu%2BffNe00VrSyjKqMuaFCN%2B7im/vlzP8Thx/iLx7mVL2WIzSu4fyxqypwXpCl7GC%2BUEUPDvhTwv4QsRpfhPw3YaXbDpb6dZpBGP%2BAoAKv0UV6CSirJHx9SpUqzc5ttvdttt%2BrbbfzYV4z%2By/8A8lv/AGjv%2ByzWP/qFeF69mrxn9l//AJLf%2B0d/2Wax/wDUK8L0yD2aiiigAooooAKKKKACiiigAooooAKKKKACiiigAooooAKKKKACiiigDx7/AIKDnxyP2HPiwfhv/af9sf8ACBan9n/sTf8Abtn2d/N%2BzeX8/n%2BV5nl7Pn37dvzYr59/Z08WfDXRfDv7RWh/8E79b8Jx%2BGL7RxL8GtN8HXFsNMvPEcOgq16dMjjPlSIkjad53kgoLhpt/wC9MtfcdFAHxJ/wR%2B8U%2BAyviHwD8O/Dfwvv4oPBPhnVte8cfDLR5IJLjVLkXyT6VrM8s00l7q1sYBLNPK6TN9uzLBASvmeXf8FR/FXxX0j/AIKofsd6h418GeH9N0K28d6raeHNT0rxPPeXV9FcXugQytdW8llClmRuQAJNcBtzZK7Ru/Syvzl/4Ljf8Sz9oH9nnx10/wCEXfVNV3/3NniHwjHn2/1v615WdtxyqrJdEn90oP8ARn3vhfCNbj/AUZf8vJTh86lDE01%2BM4n6NUUUV6p8EFFFFABRRRQAUUUUAFFFFABRRRQAUUUUAZXgb/kSdH/7Bdv/AOi1rVrKHgzQ0ysDX0KZJEVvq1zGi%2ByqsgVR7AAUv/CH6T/z96r/AODy7/8AjtAGpRWX/wAIfpP/AD96r/4PLv8A%2BO0f8IfpP/P3qv8A4PLv/wCO0AeH%2BIP%2BCaf7PniXxH8ZvEuoav4mEvxt062s9ct01GHydEESktJpqGEiBppyLmYS%2BaksyqWUr8hf4K/4J3fDnwt4uj%2BIXiD4xePvFPiA/E6Tx3eax4gvdP8AMu9TbwrP4X8tktbKGJLcWE5ZY4kjxMiNnZujb23/AIQ/Sf8An71X/wAHl3/8do/4Q/Sf%2BfvVf/B5d/8Ax2gD5y/4dSfBiz8L6B4B8OfGf4kaR4d0ix8IQ6poOnanp4g8QTeGmtTpl3eM9i0om22Vskv2d4I5UiUMnyrj6B1j4daR4t8D678OviFfXPiPSfEUN9bala6pHCoayug6vZjyI4wYljcxqWzIVA3u7ZY3P%2BEP0n/n71X/AMHl3/8AHaP%2BEP0n/n71X/weXf8A8doA8z%2BB37Hul/AuTUtZ0745%2BO/EGv6pDotjdeKPE0%2Bmz3x0jSpJXtNJHl2UcX2YfaLsM5jNyxvJnM/mFZFh%2BFv7EPw4%2BFHxh/4WzpPjnxVqEFlda3deF/COqXVq2leHJ9Xuxd6lLZrHbpOWmm3EefNMIVlkjhEUblK9S/4Q/Sf%2BfvVf/B5d/wDx2j/hD9J/5%2B9V/wDB5d//AB2gDzfQP2HP2Zrf4D6V%2Bzr8SfhZo3xE8O6VrF1rPl/EbQ7LVmutVuri5uLnUZVkh8r7TJNeXTtIka/69wAAxFcHN/wS7%2BFOhfs7%2BAf2Yvgp8YvGnw08M/D3XbfWtPXwRp3h9JdR1CC6ju4Lm6%2B16VcRs6Txh/3aRh9zCQSDAH0J/wAIfpP/AD96r/4PLv8A%2BO0f8IfpP/P3qv8A4PLv/wCO0AeR%2BO/%2BCc/7HfxG%2BNngv9o/xL8CfCreO/Bfi%2BPxKni2HwlpiahrN/Hp11YxNfXAtvMmWP7Stym1kKXFnayKQIgptaD%2Bx5cab42vvij4h/ae%2BJHiDxV/wid/4d8M%2BItXGirN4Ysrya3nuPscVvpsUEkjy2dkxe7iuSfskYOQXD%2Bpf8IfpP8Az96r/wCDy7/%2BO0f8IfpP/P3qv/g8u/8A47QB5fon7IN94T8HappHgr9qH4jaR4l8Q%2BJxrviv4g28WhTatrdwLRLNI5kuNLkso4Vght0VILWLb9nQg5aQvieJf%2BCe3gfX/gvY/s2WXxx%2BIWlfDpfDkmieJfB1hd6a8Hie2mkke7N9cT2Ml2r3PnSrM1tPb7hI2NvBHtf/AAh%2Bk/8AP3qv/g8u/wD47R/wh%2Bk/8/eq/wDg8u//AI7QB5VqP7Dvw71D42t8Yh8QPFcFm/i5PFkvge3nsl0eTxAliLFNTINqbrzBEqN5X2j7OZUEphMhZjT/AGdP2Ib/APZo%2BHniH4e%2BEP2uvifqo8QtdXMmt%2BILXw5NqFtqVzI0k2qCaPR4/tN0zHrdi4jCqiiPaqqPYf8AhD9J/wCfvVf/AAeXf/x2j/hD9J/5%2B9V/8Hl3/wDHaAPGvhX%2BxB4i%2BC/wB0T9n34eftsfFqytPD91IdO15rXwxJqAtGQKLJt2im3aFWDSK5h8/c7AylMIMS//AOCXHwJOj2ng/wAL/EHxzoPhp/B2keFvFXhnTdUtZLbxVpemzTzW0V9Jc2stwGLXVyJJbaW3klWdldmAXb9Af8IfpP8Az96r/wCDy7/%2BO0f8IfpP/P3qv/g8u/8A47QBysH7N3w0l%2BJfjv4oeJrKTX7r4ieH9P0HX9N16OG5shpVol0EsUhMYBgdr28kkSQvva4fPy4UeUQf8Em/2M/DN/4s1z4OfDu1%2BHGp%2BKdV0PU4dT%2BH2h6Zpsmi3ekypNaS2araGPBlQPJFOk0UhLbkIJFfQP8Awh%2Bk/wDP3qv/AIPLv/47R/wh%2Bk/8/eq/%2BDy7/wDjtAHDfDv4D%2BHv2fvg54n8OaR4o1rXr7WbnU9a8QeIvEUsDXuq39wpMk8ot4oYE%2BVY41SKKNFSNAFGOcbxx/ykL%2BF//ZGfHn/p28IV6ifBmhvhZ2vpkyCYrjVrmRG9mVpCrD2IIry7xx/ykL%2BF/wD2Rnx5/wCnbwhQB7NRRRQAUUV5D%2B2v8SPH3w8%2BE%2BkWXwy8StoWseLPH/h3wxD4iS0hnfSYtQ1O3t57mOOdHiaYQvIIvMR4xK0ZdHUFGAPXqK%2BUrD4y/tUT/sh/FCw8G%2BINR8VeO/h98Rrvwzb%2BKLXQbWXUr7S4r61aa/js4Ykt57%2BDTrmXESRCOa5tQBCBJ5VePn9s79qTxfpk/wAI/hp4q%2BKWs3uj/He68MRX9r4Q0HSfHev6KnhG11sTJZ63aW2mWrRXN9HHI1xBbsbaOLaonmCsAfobXgn7H/8Ayb1q/wD2Xrxz/wCrA1Wtf9ln4%2Bax4s/Yf8D/ALQHxa1WbW9VuvBdneeJrjwt4YvbmWa8EarcLFY28DXDSCUOrRJFkMrYRQMDJ/4J76lonxA/Zj1HW4bG9Fhqvxa%2BIVxFBqmmXFjcqj%2BNNadRJBcJHNbyDIykipIjDBCkYAB71RWV/wAIfpP/AD96p/4PLv8A%2BO0v/CH6T/z96r/4PLv/AOO0AalVNe0LR/FGh3vhnxFpsV5p%2Bo2klrfWdwm6OeGRSjxsO6spII9DVb/hD9J/5%2B9V/wDB5d//AB2j/hD9J/5%2B9V/8Hl3/APHaAPn7wT/wTB%2BFHw0%2BEfgP4YfDz41fEfStQ%2BH2t6nqml%2BOV1PT7nW7yW/SaK6F1Jc2UkEm6KbyldYUljSGIRum0k2PA3/BMT4B/D/w14e8K6J4t8YSW3hrw18PNDsGu9Stnke28G6rd6ppbSN9nG6SWe8lW4bgOioIxCwLt7z/AMIfpP8Az96r/wCDy7/%2BO0f8IfpP/P3qv/g8u/8A47QB4h8Nv%2BCd3gX4U/ETS/iB4S%2BOvxEVfC/hvXdC8B6FcXmmyWHhaz1Wa2mmS0Q2O%2BUxPaQeSbp7jYqbDuT5a9I%2BOfwD0T47%2BDdL8Oav4013RNU0DWrXWPD3izQHtV1HTNQgDKtzEJ4Jbdi0ck0TpJC8bxzSKUweOn/4Q/Sf%2BfvVf/B5d/8Ax2j/AIQ/Sf8An71X/wAHl3/8doA4v4bfs22Hwi%2BGEPwr%2BHvxV8VWFqmnautxqJNhNeXWqaldNeXGtSPLaMpvftMtxMAFFsXuZN0DgRhOZuf2FfAGu/BX4g/B3x38T/GXiOb4qtt8f%2BLtUubGPVNWt/IitjaH7NaRW0FubWL7P5cMEY2SysMSyPKfWv8AhD9J/wCfvVf/AAeXf/x2j/hD9J/5%2B9V/8Hl3/wDHaAPK/wBov9iPwR%2B0Tr0viGb4o%2BMvB82oeDrnwn4jTwddWUaa3oc773sZxdWs5iAJk2zWxhnQTSbZRkYgvP2CvhRP8VIviFp/jDxPp%2Bjf8JNpniS%2B8AWNxaLo19rWn2kFpZX8u62N2JIorSzAjS4SFmtImaNm3FvW/wDhD9J/5%2B9V/wDB5d//AB2j/hD9J/5%2B9V/8Hl3/APHaANSsrwf/AMgmb/sKX3/pXLR/wh%2Bk/wDP3qn/AIPLv/47V%2BwsLTTLRLGxgEcUYwqgk98k5PJJOSSeSTQBNRRRQAUVBqmqaZomnT6xrWowWdpbRGS5urqZY44kAyWZmICgDqTxXzD48/4Ky/AT/hK5/hp%2BzD4L8V/G/wAUW5xcWPw00o3dlaHs0982IUQ9N6GQA9cVy4rHYTBJOvNRvsur9Ert/JM9/IuFuIuJqk45Zhp1VDWckkoQXedSThTgvOdSPkmfUtQanqmmaJp82razqMFpa28Ze4ubqZY44lHVmZiAo9zXyWda/wCCxn7Qg2aT4T%2BG/wAAdGn63GqXZ8S67Cp6MiRgWhOOSr4IOB61Npn/AASM%2BF3jvUIfEn7ZXx1%2BIXxr1KNxILXxV4gktdJhkHOYbG1ZViGf4S7L7Vxf2hi6%2BmGw8n/en%2B7j9zvN/wDgKPpP9T%2BH8q1zzOKUWt6eFTxdT0coOnhov1rTt5m/8Uv%2BCtX7FXw/1w%2BCPBnjy%2B%2BJPihiRb%2BF/hdpUmt3U7Dgqrw/uMg4BBkB9q5lfjh/wVe/aI/5It%2By74S%2BD2hzf6vXfixq73upPGf40sbQfuJB/cmyOOtfS3wu%2BC3wg%2BCOhDwz8HfhhoHhewwN1roOkxWqOR3by1G9v9psk%2BtdNR9TzHEf7xX5V/LTXL/5PLmm/koh/rJwZk%2BmT5Sqs1/y9xs/bP1WHpexoR9JSq/M%2BRR/wTI%2BKnxg/wBK/bP/AG/PiV44SXm48OeFZo/DejyA/wDLN7e1yZQOgbcpPXvXqXwZ/wCCdn7D/wAAEib4X/sy%2BFLS5hx5epX%2BnC/vFPqLi6Mko/Bq9oorWjlGW0Z86ppy/mlecvvk5P7rHBmPiHxpmeGeFnjZU6D/AOXVHlw9L/wXQjRi/wDt7nfmxERI0EcaBVUYVVGAB6UtFFekfFhRRRQAUUUUAFFFFABRRRQAUUUUAFeM/sv/APJb/wBo7/ss1j/6hXhevX9Q1TTNJgN1quowW0Q6yXEyoo/EnFeL/sk6xpGvfF/9orVdC1S2vbWX4z2YjubSdZI3K%2BC/DCthlJBwwIPoQRSur2vqLmje19T2%2BiiimMKKKKACiiigAooooAKKKKACiiigAooooAKKKKACiiigAooooAKKzfGfjHwr8O/B%2BrfEDxzr9rpWiaFps%2Boaxql7KEhs7WGNpJZpGPCoiKzE9gDXIfDL9qP4KfF3wJr3xF8GeItRXT/C0kkfiO31vwzqGl32mMlsl0RPZXsEVzHut5YpkzEPMSRGTcGBIB6DX52/8F69NuL3w5Z39kP9J0v4OeJb%2B2bH3Wi8WeBGJ/753V9tfAb9oj4aftKeEV8efCqPxM2kyRwy2134j8C6voYuopYxJHLAupWtu08bIQRJGGXkc5r5X/4K/eH/APhJU1DTtm7y/wBmD4kXeMf88NU8Hz5/Dy815ucQ9plGIj3hP/0l/wCR9p4b4pYLxDyeu9o4rDt%2Bntqaf4SsfbGkalBrOk2usWpzFd26TR/7rKGH6GrFcL%2By/r//AAlf7NHw78U7939peBdIut3r5lnE%2Bf1ruq7qM/a0Yz7pP70n%2Bp8vmOFeBzCthnvTnOH/AIDOcf8A20KKKK0OMKKKKACiiigAooooAKKKKACiiigAooooAKKKKACiiigAooooAKKKKACiiigAooooAKKKKACiiigAooooAKKKKACvGfHH/KQv4X/9kZ8ef%2BnbwhXs1eM%2BOP8AlIX8L/8AsjPjz/07eEKAPZqKKKACud%2BLHwn8A/G/wFe/DP4m6G2oaPfvBJNDFezW0scsMyTwTwzwOksE0U0UcscsTrJHJGjoysoI6KigDzjwt%2Byj8F/BHw9uvhf4Qs/Emm6Re2k8N0LPx5rEd1K891JdT3Zuhd/aPtsk8skj3vmfaXLfNKQABj3v7CX7Ml74E0r4f/8ACIa1bQ6LrtxrWn63p/jnWLXXE1C4jkiuLptXhu11CWWWOR45GedjIhCtlVUD1%2BigDG%2BHXw88FfCXwJpHwy%2BHHh230jQdB0%2BKy0nTbUHZbwRqFVQSSWOByzEsxySSSTXmX7B//JENc/7LN8R//U11uvZq8Z/YP/5Ihrn/AGWb4j/%2BprrdAHs1FFFABRRRQAUUUUAFFFFABRRRQAUUUUAFFI7Kil3YBQMkk8AV8q/Ff/gpRN4s8fXXwA/4J/fDA/F/xxat5erarbXXk%2BHPD55G67vvuyMMH91EcttZQ4Yba5cXjcNgoJ1Zb6JLWUn2jFXbfovVpanv5BwxnXE1edPAUrqC5pzk1ClTj/NVqzcYU4%2BcpXb0jGcrRPp/X/EGg%2BFNFufEnijW7TTdOsoTLeX9/crDDBGOru7kKqjuSQK%2BUvFP/BTTxD8avEV38Mf%2BCbnwQu/ivq1tMYNQ8bXzNY%2BFdKfuZLt8G6YdfLixuHKO3So9B/4Jp%2BO/2gNZtviD/wAFK/j1efEi6hmWez%2BHXh9pNO8K6a45A8lCsl4ynpJLtJGQwYV9W%2BFfCfhbwL4etPCPgnw3YaPpVhEIrHTdLs0t7e3QdFSNAFUewFcP/Crj/wDpxD5Oo/zjD/yeXofUW4C4U3f9qYpdFz08HB%2BvuV8Tby%2Br0X3knr8o6T/wTN8c/tBanB42/wCClH7QupfEidJRNb/D3w7JJpfhbT3ByAIYysl2VPSSQqSOGDV9R/D34afDz4S%2BF4PBPwu8DaT4d0e1H%2Bj6Zounx20CepCRgDJ7nqe9bdFdeFy7CYNuVOPvPeT96T9ZO7%2BWi7JHz%2BfcY8RcSU40cZWtQh8FGCVKhD/BRpqNNP8AvNTm/tVJPUKKx/GXxE%2BH/wAOtNbWPiD450fQrNF3PdazqcVrGo9S0jKAK%2Bf/AB3/AMFh/wDgnD8P9V/sO9/ab0zVbvJxF4X0671ZTj0ktIZI/wDx6rxGOwWE/j1Yw9ZJfm7/AIHxeLzLLsD/ALzWhD/FKK/Bu/4H0xRXyS//AAWd/ZV1UeR8Nfh78WPGl4/Fvp3hf4aXss059EEojB/Eimj9tr/goL8TDj4Ff8EvNdsLST7mrfE7xnaaOY/QvZgNKfoG4rk/tvLZfw5ub/uRlP8A9Jjb8Th/1iyeWlKo6j7U4zn/AOkwt98kfXFFfI7eA/8AgtD8Vh5XiX47fBr4U2cvR/B3hq61u%2BhX/aF8RCW/3TikH/BJ%2BP4h/wCk/tS/tufGf4is/wDx8aWfFP8AZWlP64tLUDbn2fpS/tDGVf4OGl6zcYL7m5S/AX9qY%2Bt/u%2BDm/ObhTX3Nzl/5KfRPjf8AaG%2BAPwzu20/4kfHLwf4fnQfPBrfia1tHX6iWRSK808a/8FRv%2BCePgG1a8139sHwNOiZyui6yupP%2BC2nmsfwFVPA3/BJ7/gnP8PbRbPRP2SPCV2FOTJr1q%2BqOx9S140pP516V4M/Za/Zk%2BHN0l98Pf2dPAmhTx/cm0bwjZWrr9GjiBFP/AIXZ/wDPqP8A4Ml/8in%2BA78S1OlGH/g2bX/pCf4Hgq/8FpP2PdSzeeDfD3xM8Raaf9XrOi/De/ktZPozorf%2BO0P/AMFjPgPqv%2BhfDn9nz43%2BLtSPTSfD/wAMLlpx6E%2BaUUD3z2r62AAGAKKPq2cPfEx%2BVJfhef5h9Uz574uK9KK/C9R/jc%2BSR%2B3L%2B394y/e/Cf8A4JNeKHtX/wBXdeNPiHpuiyIPVoJFZ/wBzS/8LW/4LN67%2B90r9k/4N6Crfdi1vx1c3TJ9TbqAfwr61oo/s7Ey%2BPFVH6ckfyg/zD%2BycZP%2BJjar9PZwX4U3%2BbPko2f/AAXB8SnyrjWP2avDMJ/5a2lvrd5cD8JMRmk/4Zo/4K1%2BI/m1z/gpj4Z8O7vvx%2BHvg5ZXQX2DXMgP419bUUf2RSl8darL1qSX/pKiH9hUZfxK9aXrVkv/AElQPkk/8E5v2nfGX7r4yf8ABVf4vX8TcOngu2s/DrEd8NAr4pV/4I6/Ak/v7j9on46zXbczX8nxTufOlb%2B8xCgE/QCvrWij%2BxMrfxU%2Bb/FKcn%2BMw/1cyZ/HS5n3lKpJ/fKoz5KP/BHT4B3Xya5%2B0B8cdTj7Q3/xTumUD0%2BVRxR/w5R/YZn51bTPHF%2BT95rz4iamS312zCvrWij%2Bw8n60Iv1Tf5yYf6t5B1w0H6pv85M%2BUdP/wCCI3/BM2zuBeX37O0mpTj/AJbap4v1ac49MNdbf0ro/wBgD4P/AA1%2BAnir4%2BfCb4QeErfQvDuk/GW2GnaVaM5jg8zwf4amkwXJY7pJHY5J5Y19F14z%2By//AMlv/aO/7LNY/wDqFeF66cNl2X4OTlQpRg31UUn96VzrwmU5XgJueGoQg3peMUnbtdK/4ns1FFFdh6AUUUUAFFFFABRRRQAUUUUAFFFFABRRRQAUUUUAFFFFABRRRQB5h%2B2p8IfFXx8/ZM%2BIfwd8CvajW/EHhS8tdHjvpSlvNdGMmKKVgCVidwqO2DhWY4OMHzj4QeFfi54i8cfF74tfFb9mLxNodp8S9OtbC08IXGu6PJeR22n6YYibiS2v3hjlu5rmeKLypZAqW8byvCW2r9LUUAfOP7Bfwr%2BKfws1nxbpE3w%2B8deCfhjHpWiWfw/8D/EnxzF4g1TTrqBLpL%2BZLiO/v/Ks5I205Irc3T7Htp2CRrIoPBftlfCvxJd/tDa3Dq3xZ8Q6/Z%2BKP2W/ilBp/h/VbXTktNGDT%2BGEKWrW1pFO4feM/aJZz8i7SvzZ%2By68K%2BMOix%2BJP25fAHh2bGy/%2BBXxCtnz0w%2Bp%2BEVP86yr0/a0Jw7pr701%2Bp35Vi3gM0w%2BK/591Kc//AJwn/7aS/8ABNHX/wDhJf8Agn58HNR37vL%2BHumWuf8ArhAsH/tOvcK%2BWv8AgivrUmt/8Ey/hhJcZEtpa6lZyoeqGHU7uIA/gor6lrjyip7XKcPPvCH/AKTH/I%2Bi8RMIsD4gZvh19jFYhf8Alao//bgooor0T44KKKKACiiigAooooAKKKKACiiigAooooAKKKKACiiigAooooAKKKKACiiigAooooAKKKKACiiigAooooAKKKKACvGfHH/KQv4X/wDZGfHn/p28IV7NXjPjj/lIX8L/APsjPjz/ANO3hCgD2aiiigAooooAKKKKACvGf2D/APkiGuf9lm%2BI/wD6mut17NXjP7B//JENc/7LN8R//U11ugD2aiiigAooooAKKKKACiiigAooooAK8v8A2qP2vvgr%2Bx94Jg8X/FvWrhrnUbgWvh/w5pNv9p1PWro4AgtbcEGRiSoJOFXcu5hkZ4v9rv8Ab38O/APX7T4FfB7wjcfET4xa9Hjw94A0ZwzQgji6vpBxa26g7izEFhyMLudef/Zt/Y2i%2BE3ii6/bR/bq%2BJemeKvixd2/77XdQmWHSPCVsc/6HpyykLCihipmOGbLdN7l/IxOPqVarw%2BDs5L4pP4KfrtzS7QT03k4rR/oGVcL5dleWQzzidyp4aSvRoxajWxNusbp%2Byw6atPETjZ2caEas7yhyCfAv9tP/goy41b9rLVL/wCDvwkuDut/hP4bv8a3rcPUf2rdqB5KMOtugBwSrKrKHP1b8Ivg18K/gJ4Fs/hp8G/Aem%2BHNCsVxb6dpluI03cZdj1kc4yzsSzHkkmvEPif/wAFdP2CfhvqB8OaV8aovGmuuSln4f8Ah7Yy61c3cn/PONrcNDu7YaRa5H/hbX/BVH9rP918F/gzo3wB8KXH3fFHxHA1HxBJGejw6an7uBx3juM9OGrjoV8rwlVulJ16z0bj78vS69yEfLmivJ7nyXEnihLPaUcuwqjHDU3eGFwqbpxe3NNpvnqW3rYirOo9bckfdX1R8QfiX8O/hN4Yn8afFHx1pHh3SLYfv9T1vUY7WBD6F5GAyccDqe1fMWpf8FW9P%2BKurTeFv2CP2ZvGfxrvIJTFNrllD/Y%2BgQuOCr6hdqF3A9gmGAJDGtH4ff8ABJf4BDxNB8TP2pfFniT44%2BL4juXVfiPqDXFlbk8lbewB8iOPgYjYSAdjX0/pGj6T4f0yDRNB0u2srK1iEdtaWkCxxQoOiqigBQPQCuzlzjF7tUY%2BVpz%2B9%2B5H5KR8fy59jviccPDsrVKn3u1OPyU35nyYvgX/AILH/HQ%2Bd4q%2BNvwy%2BCGmyfcs/CXh9vEOqIvdZZLsiDd23Rn3p6/8En4vHB%2B1ftG/ty/HHx3K3%2Btsf%2BEyOmacT3K2tsg2fg/Svriin/Y2Dn/Hcqj/AL85Nf8AgKcY/wDko/8AV/AVNcQ51X/fnNr/AMBThD/yU%2BYPCH/BGr/gm74Q1FdZ/wCGbbTWL4NukuvEmtX2omU%2BrpcTtG3/AHzivoDwB8Kfhd8KNL/sT4W/DbQPDVngD7JoGjwWceB0%2BWJVFb9FdeHwGBwmtClGPpFL8bX/ABO7CZXluBd8NQhB/wB2MU/vSv8AiFFFFdZ3BRRRQAUUUUAFFFFABRRRQAUUUUAFFFFABRRRQAV4z%2By//wAlv/aO/wCyzWP/AKhXhevZq8Z/Zf8A%2BS3/ALR3/ZZrH/1CvC9AHs1FFFABRRRQAUUUUAFFFFABRRRQAUUUUAFFFFABRRRQAUUUUAFFFFABRXHftB/GbQv2d/gd4s%2BOfiTTLq%2Bs/CmgXOpSafY7fPvGijLJbxbiF8yRgsa7iBucZIGTXNfs9/tDeL/iRq/jT4f/ABq%2BHGl%2BDPF3gS6tP7asNK8Ttq2nyWd1arcW91DdyWtqzKf30Tq8KFJLaTG5NjsAerV4z44/5SF/C/8A7Iz48/8ATt4QqH9jj9seL9r29%2BIM%2Bm/DafQdK8JeKbfT/D%2BoXWo%2Ba%2Bv6dcabaX9tqXleWn2ZJorpXSIs7eWUZijM0STeOP8AlIX8L/8AsjPjz/07eEKAPMf%2BCM3/ABLP2Utd8C9P%2BEX%2BK3ibStn9zZfNJj/yL%2BtfWlfJf/BK/wD4kuvftJeBW4/s79pXxFcwp/chuVt5EH04P519aV5OR6ZTRj2TX/gMpx/Q/QPFT3vELMKv/PycKn/g2jh6v51GFFFFesfn4UUUUAFFFFABRRRQAUUUUAFFFFABRRRQAUUUUAFFFFABRRRQAUUUUAFFFFABRRRQAUUUUAFFFFABRRRQAUUUUAFeM%2BOP%2BUhfwv8A%2ByM%2BPP8A07eEK9mrxnxx/wApC/hf/wBkZ8ef%2BnbwhQB7NRRRQAV4h%2B394k8RaF8E9G0jRPFepaBaeJPiX4V8P6/rmj6hJZ3Vnp19rVpbXAiuYmV7Z5lk%2BzCZGV4/tG5GRwrD2%2Bs3xj4M8H/ETwtf%2BB/iB4U03XdE1S2a31PR9YsY7q1vIWGGjlikBSRCOqsCDQB8p%2BEIv2gfHH7GvxX%2BF/wX8f69quo%2BF/ivqWgeEtZvfFUn9q6jotrqlu13YR6pcOZPtYiN/psV3LJ5iSRRs8u9GkrxOw%2BL/wC1P4rmi/Zt8K%2BEfGlnoF9%2B03f%2BFtL0/wAUfGe6tdUXTLfwVFrLadd%2BJbGW%2BukI1L7YWe2luJV%2BzfY/M2pKV%2B9bf9mv9nO08Fv8N7X4A%2BCovDsmh/2LJoEfhWzWybTfMaT7EYBH5Zt97u/lY2bnY4ySaS9/Zo/Zx1L4SwfAPUf2f/BNx4EtiptvBU3hSzfSYishkXbZmPyVw5LjC8Mc9eaAOY/Zu%2BNNl43/AGO/DPxg%2BHXw48V6uh0AC08My%2BIYtQ1WeSB2geEX%2BoXSJdtvjfFzNOPOUCQtl6yP%2BCdOrX%2Bvfs3X2t6r4YvtEubz4t/EOa40fU5IHubF28Z60TDK1vLLCXQnaTHI6ZB2swwT7VoWhaJ4X0Sz8NeGtHtdO07T7WO2sNPsbdYYLaFFCpFGiAKiKoACgAAAAV5H%2Bwf/AMkQ1z/ss3xH/wDU11ugD2aiiigAooooAKKKKACiisb4g/ELwP8ACjwXqXxG%2BJPimy0TQtItjcalqmoziOGCMcZYnuSQABySQACSBSlKMIuUnZImUowi5SdktW3sjZr8%2BP8Agof/AMFivCvgrxPc/sz/ALLvxI0y010TG18UfESS2N7b6Ec7Wt7K3jDNf32SFCqDHGzAORh2id4q/aA/aw/4K33l78MP2KW1D4afBFZ3tfEfxh1a0eK%2B19ASj2%2Bmw5VwhO7JyrYGHeEkwye//sef8EvP2P8A9im3g1H4YfDpNR8SRpiTxh4j23eosccmNioS3B9IVTI65618zicTmOcr2eXPkpPeq76rtTWja/v6L%2BV/aO/IuIcNl1R4rD4OOIqr%2BHKun9Xg%2BlSVLSeJa0cKbdKg3Z1JVY%2B5L5e/ZD%2BBH7aOpaDdw/so/DCT4Nad4jl%2B0eK/jf8AGS1XVPG/ieRjuaZbFiVt1JORFKduDuVyxZj7t4e/4JB/APxDrEHjL9rH4keOvjbrsLeYk3j7xHM1jbv38izhKRxp1%2BRt68mvrGiuvDcP4CjSjCqnUt0l8K9IL3fO7Um3q5N6nj5pQxPEeYzzHPq88ZiJu8pVXdaaJRprlpxjFJKMVBqMUoxSSSXM/DT4K/B34MaZ/Yvwh%2BFXh3wvaFQrW/h/RYLNWA/vCJV3H3OTXTUUV7UIQpxUYJJLolZfcrHRTp06UFCEUkuiSS%2B5JL8AoooqiwooooAKKKKACiiigAooooAKKKKACiiigAooooAKKKKACiiigAooooAK8Z/Zf/5Lf%2B0d/wBlmsf/AFCvC9ezV4z%2By/8A8lv/AGjv%2ByzWP/qFeF6APZqKKKACiiigAooooAKKKKACiiigAooooAKKKKACiiigAooooAKKKKAOO/aE%2BDOh/tE/A3xZ8DPEmqXVhZ%2BK9AudNk1Cx2%2BfZtLGVS4j3Ar5kbFZF3AjcgyCMivNPBf7GninUbL4hQftJ/E/RfG7fFrT30v4hR6N4Xu9DiuNMXT1srezs/L1KWWzUK11JJIZZZHku2KNAERR75RQB4l%2Byr%2Bw/wCCP2TPiN8SfHXgzx34s1WH4g6tp93HYeJvGOsaudNjtdOt7MR%2BbqN7cmZ2aFn83COEeOHlIY8Yt/8ACP4UeBv%2BCm3gvx74J%2BGPh7R9d8T/AAe8cS%2BJda0rRYLe71Z49W8JeW1zNGgecrvfBcsRuOOpr6Hrxjxy6D/gob8Loy43H4MePSFzyQNW8H5P6j86APMv2EMaH%2B3V%2B1r4F%2B79n8a6Bquz0%2B26YZM/jsr60r5L/Z8/4p7/AIK7/tDaP93/AISLwP4T1XH977PBJa5/DOK%2BtK8nJtMJKP8ALUqr/wAqSf5M/QPEr3%2BIaFf/AJ%2B4TBT%2BbwlGL/8AJqbCiiivWPz8KKKKACiiigAooooAKKKKACiiigAooooAKKKKACiiigAooooAKKKKACiiigAooooAKKKKACiiigAooooAKKKKACvGfHH/ACkL%2BF//AGRnx5/6dvCFezV4z44/5SF/C/8A7Iz48/8ATt4QoA9mooooAKKKKACiiigArxn9g/8A5Ihrn/ZZviP/AOprrdezV4z%2Bwf8A8kQ1z/ss3xH/APU11ugD2aiiigAooooAKKK8x/a3/a2%2BD/7F/wAHL34y/GLV3jtYWEOm6ZagNd6pdsDstrdCRudsE54CqCzEAE1lWrUsPSlVqyUYxV23skZVq1LDUpVasrRWrb/r/NttJJtpP0bV9X0rQNKute17U7eysbK3ee8vLuZY4oIkUs8juxAVVUEliQAASa/Pm4g8Uf8ABbf44ABtQ0n9ln4f6zww328/xD1SI8kdGS0Tpnhgp7Sv/o3KfCUftj/8FwdXl8SfGO4u/hj%2Bzha3pC%2BGtAuWW68WPG/%2Bpe5IBniVh88gURBlCohkUyR/o/8ADr4deCPhJ4F0r4afDbw1a6PoOiWSWml6bZpiOCJRgAZySepLElmJJJJJNeBCcuI7PlccLvro6tttN1T666z0VlG94x2XZnHFxoY%2Bg6KjaThOym3o4qpT1dNLSTp1Pfb5FOnBXg7vh3w54f8ACGg2fhXwpodppmmadbJb2Gn2FusMFtCgCrGiKAqKAAAAMACrtFFfRpKKsjqlKU5OUndvdsKKKKZIUUUUAFFFFABRRRQAUUUUAFFFFABRRRQAUUUUAFFFFABRRRQAUUUUAFFFFABRRRQAV4z%2By/8A8lv/AGjv%2ByzWP/qFeF69mrxn9l//AJLf%2B0d/2Wax/wDUK8L0AezUUUUAFFFFABRRRQAUUUUAFFFFABRRRQAUUUUAFFFFABRRRQAUUUUAFFeYftp/F7xV8A/2TPiH8Y/A0dqdb8P%2BFLy60d76Ivbw3QjIillUEFokcq7rkZVWGRnI5X9mjxF8X0%2BI3xY/Zq%2BIvxq1bxdceD20qfQ/HGo6Vp1vqKRajYFzFLHZ20No8kM8MsiEQAeXNErhypdwD3mvg/8A4KofGfxv%2BzJ%2B25%2Bzn%2B0v4fgnn8PeEvDPjFfiJBACT/YN3qHha0ml2jl/LmmtpQv95FJ4Br2L9in4k/HPU/jR8Vfgp8a/Evi28HhRNFvPD8HxGtdCj12S0vBeobwnQY0sXsJpLN1tzj7QHt7pZlTEYrK%2BLV18L/2jf29NH/Z68SeGvEE1l/wonx/pfiNNW8I6jYWlzFc6l4TQ/Zbu5t0gvMAN89s8gQ7SSCVzy42jVr4WcKUuWTWj7NWa%2BV0k/Js48woVsTgqlOjLlm17r7SVnG/ldJPybOV/ax8QS/sg/tmeDP8AgonBdR6h8NvGHh%2B28EfEe7hw66RDLcedYaqrL1h8xgjnoFxjLSLj7LhmhuYUuLeVZI5FDI6NkMDyCCOor41/YBtbb4j/AAC%2BIn/BMP8AajgXV9W%2BFk8nhfUo7r5W1Xw9OhbTb1M8r%2B5wqkcp5UTZDEVf/wCCeHxj8RfBXxdq/wDwTQ/aN8UB/GHgEA/D3V799jeKvDRBa1lizw8sCKY3RclQgHzeXIw8XL8ZGlWU3pTrtvX7FVaTg/8AE4tr%2B9Fr7SP0rC4iPiJwDRzCjH/bcupqFWC3nhYylGM7LeWEqSlRq2X8GdKo9IykfXtFFFfSHwIUUUUAFFFFABRRRQAUUUUAFFFFABRRRQAUUUUAFFFFABRRRQAUUUUAFFFFABRRRQAUUUUAFFFFABRRRQAUUUUAFeM%2BOP8AlIX8L/8AsjPjz/07eEK9mrxnxx/ykL%2BF/wD2Rnx5/wCnbwhQB7NRRRQAUUV8/f8ABS46YP2a7X/hNPL/AOEK/wCFheF/%2BFkfaP8Aj3/4R7%2B2bT7b9qzx9j8v/j53fu/s3n%2BZ%2B730AfQNFfBfgi0%2BF/j79gL4tfC/4f8Axl8FeFvAkfjvUtW8BNq2tR2uiHwjDrEUjxOyN%2B50O6ng1CzE0YMItZj5QaMIp8ot/wDhffiz9jf4r%2BDvhd%2BzpZ6x8GPE3xK1iaGx%2BB3iHTDo1l4Xg8N6aZbPTJdSn01LjT7rWUvlnmgjAdBfrHFieJwAfqXXjP7B/wDyRDXP%2ByzfEf8A9TXW6i/ZA8Q/EK//AOCfvwx17wj8OYovEP8AwrHRvsHh7xXrSWcbutnCqia5s0vREjKN4ZElIDKCobIWt/wTpuPEt3%2BzdfXXjLSbGw1eT4t/ENtTsdM1F7u2t5z4z1rzI4p3hhaZA2QHaKMsACUXOAAe6UUUUAFFFcn8c/jZ8PP2c/hLrvxr%2BKutCw0Hw9YNdX02AXfGAsUakjfI7lURf4mYDvUVKkKUHObskrtvZJbsirVp0acqlRpRim23sktW36Iz/wBpP9pL4TfsofCPUvjP8ZfES2Gk6eu2KJAGuL64YHy7aCPIMkrkYCj0LEhVZh%2BXHwJ%2BEfxz/wCC5f7WNx%2B0F%2B0Tb3Wj/CHwheNbWuiwTsIguQ39l27jG6VwEa6uRhsYRdg2AO%2BLPhn9pD/gqD%2B1J4X8GfEQTaHquu2I1XTPCUTeZD8NPCTlSdQux919XvFKCNWGYldSQheIwfq78IPhJ8PvgR8NNG%2BEXws8OQaVoGg2S2unWUC8Ko6sx6u7MSzOeWZixJJNfHKNXinG/vE44Sm/h2dSW65v7q0bj5pP3m1H6zKMK%2BHstw/EWOhbFVlz4KjJfwqd2o46tF/8vJtS%2Bo0pK0EnjJxc1hox2PD3h7QfCWg2fhfwvo1tp2m6dapbWFhZQLHDbwooVI0RQAqgAAAcACrlFFfZpJKyPmJznUm5zbbbu29W29W23dtttttttthRRRTJCiiigAooooAKKKKACiiigAooooAKKKKACiiigAooooAKKKKACiiigAooooAKKKKACiiigArxn9l//kt/7R3/AGWax/8AUK8L17NXjP7L/wDyW/8AaO/7LNY/%2BoV4XoA9mooooAKKKKACiiigAooooAKKKKACiiigAooooAKKKKACiiigAooooAzPGng3wr8RfB2rfD7x1oFrquia7ps%2Bn6xpd7EHhvLWaNo5YZFPDI6MykdwTXCfDz9kD4F/CvQdR8PeCtO8SwRaw1y2s3d34/1m7vNRee1itGkuLq4u3nndLeCGKF5HZrdY1EJjr06igDhfgz%2Bzd8JfgJdavqnw80zV5NR182/9s634l8V6lrmo3iQK4gie81K4nnMUfmS7It%2BxDLIVUF2J5Pxx/wApC/hf/wBkZ8ef%2BnbwhXs1eM%2BOP%2BUhfwv/AOyM%2BPP/AE7eEKAOS/bJ/Yx8d%2BN/HNj%2B1x%2ByP4zTwp8ZvDdiLaCa4YnTfE9grFjpuoR5wyE52ydVOOflRo/PrTWfgD/wVm%2BH8/wu%2BKWj6j8L/jt8OrrzHsRN5Gu%2BEtSTaRd2cmVa5tGYI2VO1lKZ2t5b19qV4h%2B1n%2BwR8Gf2rp7Lxrfzah4T8f6IA3hn4j%2BFJza6tprrkqPMXHnRAk5jfIwzbShYtXh47LJNznQipKfx027Rn/eT%2BxPRa7OyvZpSXJgcRnnC%2BcwznIKrp14vmcU7KTtZtNppSavGSlGVOrFuNWLTueb/ALPn7cXxB%2BDnxDtP2Pv%2BCjCWugeNnfyPCHxDjj8rRPG0IwFeOUgJb3ZyoeFtoLEYCllQ/W9fAPxc%2BLHjf4XeCZv2aP8Agsn8FbXxx8OL6RbfTfjh4Z0l5LIsfljlv7eIebp1yM8TRYG5sKGAZzc8C/Fj4/f8E9/C9l4rsfFd5%2B0B%2BzNcRCTSfGOi3KX2veErTt5xjO2/tEHG9cMgU52BFRuPB5tLCt06zcoR3bX7ymv%2Bnkd5R7VY8ya%2BL%2BY/SsG%2BGfE%2BUpZMo4PNVrUwc7U4VZPeWFcmlTnJ3f1eUnTk3bDVndUV95UVzPwh%2BMnwu%2BPngGx%2BKHwc8caf4h0HUU3Wuo6dNuUnujDho3XoyMAynggGumr6aE4VIKcHdPVNap/M%2BHxOGxOCxE8PiIOFSDcZRknGUWnZpppNNPRppNBRRRVGAUUUUAFFFFABRRRQAUUUUAFFFFABRRRQAUUUUAFFFFABRRRQAUUUUAFFFFABRRRQAUUUUAFFFFABXjPjj/lIX8L/APsjPjz/ANO3hCvZq8Z8cf8AKQv4X/8AZGfHn/p28IUAezUUUUAFFFFABRRRQAV4z%2Bwf/wAkQ1z/ALLN8R//AFNdbr2avGf2D/8AkiGuf9lm%2BI//AKmut0AezUUUUAFfl7%2B3n%2B17o/7R3xsji0vRH8U/Dj4Z%2BKU0vwf4RtAZB8TPH3Aitgq/6yxst6tK33TuC/N58ePY/wDgpn%2B2/qME2t/sl/Afx2uhXWn6KdR%2BMPxFhG9PBWisADHHgjfqNzuEcMQIfMi42lg8ed/wSc/Yig0%2By0f9rr4m%2BCH0VIdGNj8G/BN4wkbwzokmWN5McANqF5vaWWXAOJWA2hxHH8jmuKrZtjFluEeid5y3Ss9vNRe62lPlhqozPZ4ZyXLc6nVzfOI82VYOaU43t9cxKXPTwcGteSNlVxdRaU6SVNP2lSKXu37An7JWsfs1fDrUfFnxY1lNc%2BKfj%2B//ALZ%2BJHiMkMZ7x8lbWI9oIFYoijC/eYBQwUe9UUV9PhcNSweHjRpK0V9/m2%2Brbu2%2BrbZGeZ1mHEWbVsxxsr1Kju7K0UkkoxjFaRhCKjCEVpGEYxW2pRRRW55IUUUUAFFFFABRRRQAUUUUAFFFFABRRRQAUUUUAFFFFABRRRQAUUUUAFFFFABRRRQAUUUUAFFFFABXjP7L/wDyW/8AaO/7LNY/%2BoV4Xr2avGf2X/8Akt/7R3/ZZrH/ANQrwvQB7NRRRQAUUUUAFFFFABRRRQAUUUUAFFFFABRRRQAUUUUAFFFFABRRRQAUV49/wUHPjkfsOfFg/Df%2B0/7Y/wCEC1P7P/Ym/wC3bPs7%2Bb9m8v5/P8rzPL2fPv27fmxXiX7HPi/9jXQNV%2BOOkfB/xX4FsPgLeJbTaJb6FqFtDoUzw6LG2vSWIiYRmCOFrM3DQ/IkzTlyJTLQB9nV4z44/wCUhfwv/wCyM%2BPP/Tt4QryH/gk34j/Zt%2BJcnxJ%2BNX7J9/4E0TwP4mvtMPh/4beBL6z26PaQwzJHql9Z2jbNPvdQyzmBlWQQ2tuJQJlmRO9v9S%2BK93/wU28F2fjbwX4e0/Qrf4PeOB4a1HSvE895d36HVvCXmNc20llCloRhMBJrgNuOSu0bgD6HooooAg1PTNN1rTp9H1nT4Lu0uoWiubW5iWSOaNhhkZWBDKQSCDwRXyT42/4Jv%2BOvgJ4nvfjB/wAEzPinF8PNUu5Tcav8NNaV7nwnrj9wYBlrJz08yLoAFURgk19e0VyYvA4bGpe0Wq2knaUfSS1X4p9UzhxuW4TMEvar3o/DJNxnF94yWq81qn1iz8pIPG2ofB346Ta18MtO/wCGW/jlfyeZrfw08YybvAHxDZTgta3KYhhlcnCupXDNsB3M8lfaX7K//BRDwF8cfFcnwJ%2BMHhW8%2BGXxc09ANS%2BH/iWQK9zwT51hPwl7CwBZSnzbQTgrhz7B8Yvgh8I/2gvBFz8OPjV8PNL8S6LdD95YaraiRVbGA6N96Nxnh0IZexFfBn7UX/BIH4ueH/CUej/s5eK0%2BIfg7SpDNovw48e6kYdU8PsCCDoetj95akEArDKfJyoMglPFfNTwmcZJN1ML%2B9p7uKVr%2BfKtFL%2B9TsnvKlfU%2B2w3GlTH4aGA4zpzxdOCUaeNoxj9doxStGNam3GONpRVlZyjXjFfu5uypn6OUV%2BT/wCz1/wWK%2BOX7HvjCP4B/tw%2BEPFOs6baMsS3XiDTvs3inSY8hVMytiLVoR/DPEwldVaRhyEr9Mfgj8fPg3%2B0h4Et/iX8DviJpviTRbkALd6fNkxPjJjlQ4eGQZ5RwrDuK9jK88wGapxpStNbwekl8uq8180jDMuHqmFwazHA14YvBSfLGvRblDmeqhUi0qmHq23o4inSno%2BX2iXMdfRRRXsHzwUUUUAFFFFABRRRQAUUUUAFFFFABRRRQAUUUUAFFFFABRRRQAUUUUAFFFFABRRRQAUUUUAFeM%2BOP%2BUhfwv/AOyM%2BPP/AE7eEK9mrxnxx/ykL%2BF//ZGfHn/p28IUAezUUUUAFFFZvjDxl4Q%2BHnhe/wDHHj/xXpuh6Lpds1xqesaxfR21rZwqMtJLLIQkaAdWYgCgDSornNM%2BMPwj1r4ZD416P8UvDl34NOnvfjxbba5byaYbRAS9x9qVzF5ShWy%2B7aNpyeK53Vv2v/2S9B%2BG2m/GXXP2ovh1ZeD9YumttI8V3fjawj02%2BnUsGihumlEUrgo4KqxI2NxwaAPRa8Z/YP8A%2BSIa5/2Wb4j/APqa63XsNhf2Oq2MOqaXexXNtcxLLb3FvIHjljYAq6sOGUgggjgg149%2Bwf8A8kQ1z/ss3xH/APU11ugD2avnX9vr9rfxb8F9N0T4Afs7aZFrfxm%2BJErWXgnSDhk0%2BPkTarcjBCQQKGbLDDMp4Ko%2BPSv2ov2jPAX7J/wJ8Q/Hn4jTn7BoVkZIrSNwJb65Y7YbaPPV5JCqDsMkngEj8/DpP7Qml65BpJv1n/a0/aXsRJql8Ebyvhb4Oz8yIM7oNkY2jkM0ynlnjUyeBneYyw8Pq9Jvna1a3SbslH%2B/N%2B7BdPem9IFZbk%2BZ8W59SyDLZqnOac6tWWkMPh43dStN625YqXL1vqk3yRlZ/Zc/ZE8IftBfGNv2f9A1ObxH8Kvhb4lGrfGLxteEvJ8TvHX32hkdiTJaWzMxKEleSDuMqy1%2BnKqqKERQABgADpXD/s2/s9fDr9lj4K6D8C/hbppg0nQrQRrLIB5t3MTuluJSPvSSOWdj0ycAAAAdzXTk%2BWxy7De8lzys5W2XaK62itL7tuUnrJn1HE%2BbZZiXQyrJoOnl2Di6eHg9G1e9StUWt62InepUbbaThTu1T1KKKK9Y%2BVCiiigAooooAKKKKACiiigAooooAKKKKACiiigAooooAKKKKACiiigAooooAKKKKACiiigAooooAKKKKACvGf2X/wDkt/7R3/ZZrH/1CvC9ezV4z%2By//wAlv/aO/wCyzWP/AKhXhegD2aiiigAooooAKKKKACiiigAooooAKKKKACiiigAooooAKKKKACiiigAooooAK8Z8cf8AKQv4X/8AZGfHn/p28IV7NXjPjj/lIX8L/wDsjPjz/wBO3hCgD2aiiigAooooAKKKKAON%2BNv7PXwQ/aQ8Iv4F%2BOnwv0fxPpjA%2BXBqtoHaBiMF4pBh4Xx/GjK3vXwt42/4If8AxN/Z78dzfGz/AIJiftU6v4G1sHcfDfiO4aazuVByIWnVW3xjtHPFMCTksMZr9G6K8vH5Nl2ZSU60PfW0leM16SVn%2BZFKNTDYl4nC1JUarXK505OEnH%2BWVrqcO8KkKsH/AC9V8IeC/wDgq58cP2Zrm28Cf8FUf2W9c8DP5y28fxL8L2DX%2Bg3bHOGk8kv5TEDO2NpWJP8Aq4xxX2F8H/jz8Fv2gPDKeMfgl8UtC8UacyqXuNF1KOfySwyEkVTuifHVHCsOhArpdV0rS9d0y40XW9Nt7yzu4WhurS6hWSKaNhhkdWBDKQSCCMEGvjT9oT/giF%2Bzb468QSfFH9l/xPrfwS8bqWkttX8DXTw2fmH1tkdPKHA4geIdyDXK6ed5fH93JYiK6StCp/4ElyS/7eUX5mUKeZ1a2tWm7/zRdP75U1OC9fZKPkj7Tor8t/E3xZ/4Lxf8E9nL/EHRdK%2BNngqzYD%2B3ItNe9kigB5aRrYR3kZA5LyxyqOfmbFehfAL/AIOC/gx8Q7Jf%2BFt/ADxd4ekjh8y%2Bv/DPl67Z2iA4Mk/k7Li3B6gNCT19KypcUZb7X2OJUqM%2B1SLX3NXi15p2PSx2WZ3leAeOxuEqRw63rQSrUF616Dqwh6VVQfkfoNRXj3wX/wCCgX7FX7QYhi%2BEv7S/hPUrq4x5OmT6otpetn0trjy5v/HK9h69K92jiMPiYc9Gaku6aa/Bs87D4rC4un7ShUjOPeLTX4NhRRRWxuFFFFABRRRQAUUUUAFFFFABRRRQAUUUUAFFFFABRRRQAUUUUAFFFFABXjPjj/lIX8L/APsjPjz/ANO3hCvZq8Z8cf8AKQv4X/8AZGfHn/p28IUAezUUUUAFeIft/eG/EWu/BPRtW0TwpqWv2nhv4l%2BFdf8AEGh6Pp0l5dXmm2OtWlzcGK2iVpLl4Vj%2B0iFFaST7PtRXcqp9vooA%2BLvDXw9tPiT%2Byf8AFvw94v0Lx14R07xP8S7/AMeeE7b/AIVlql1d2drFrMF3ayvpot/Mma4vbN7yTTsLcvDdkPHG0hxyPg74oftI/s%2BfB74lfF3VPhj4p8WeKfjJ8a3k8Cahb/A7W47fQLJtA0uwn1e90S3jur%2BwtBLp11IttKfPuWeEO0ZuXki%2B/wCigDyz4B/DQfDT9jrwV8IP2efEs9hH4e8DabpPhbVfHnhS7MqR29tHFHJeac72U6uVTLQloGUnGFA21z3/AATpt/Etp%2BzdfWvjLVrG/wBXj%2BLfxDXU77TNOe0triceM9a8ySKB5pmhQtkhGlkKggF2xk%2B6V8b6h%2B0A37MH/BMr4t/GazuTHqWnfEj4lwaEV5Y6jceNtat7XA6tiaVGIHZTWOIr08Nh51p/DFNv0Sb/AEMMViaWDws69R2jBOT9Em3%2BR51%2B0j8d/CH7Rvx38U/Hvx3KLn4B/srSSXbRBx5Hi/xqq7YoFJ%2BV0t3dI17eZIPvJLx7j/wTa/Z18YeFfCWp/tb/ALQpN58Wvi6ItV8STzRkf2RYsoa00qFTkxxxR7Ny9dwAJby1NfOnw8/Z5g8XeK/gb/wSysrJG8OfCrQbPx98etgyl3q0n76206U/xl7iV5GRs7oShHMfH6T181k2Gni8XLF19XF/L2jS5reVKLVKPn7R7tn3OGw9fgzw/pYWp7uPzZRxOJf2oYb/AJhcPfdRk4uvKOnNGNHmTTsFFFFfVnxoUUUUAFFFFABRRRQAUUUUAFFFFABRRRQAUUUUAFFFFABRRRQAUUUUAFFFFABRRRQAUUUUAFFFFABRRRQAUUUUAFeM/sv/APJb/wBo7/ss1j/6hXhevZq8Z/Zf/wCS3/tHf9lmsf8A1CvC9AHs1FFFABRRRQAUUUUAFFFFABRRRQAUUUUAFFFFABRRRQAUUUUAFFFFAGb4z8Y%2BFfh34P1b4geOdftdK0TQtNn1DWNUvZQkNnawxtJLNIx4VERWYnsAa5b4Q/tJ/CD46eFNX8YfDrWtTkt9Au2ttcstY8M6hpeoWEogjuQk1lewRXMZaCaKVN0Y8xJEZNwYE5f7anwh8VfHz9kz4h/B3wK9qNb8QeFLy10eO%2BlKW810YyYopWAJWJ3Co7YOFZjg4weM/Zp0z4zn42fEf48/Eb9nrxD4STx6%2BnQaboF9q%2BkXNzZQ6ZYhPOumtL2WISXE9xNHGsTygR20bStEX2KAenfAb9oL4V/tL%2BBX%2BI/wf1jULzSotVutNnOq%2BHr7S7iG6tpTFNE9tfQwzIVdSPmQA9QSCDXG%2BOP%2BUhfwv/7Iz48/9O3hCuf/AOCe1n8ZtI0L4i2Hxj/Zu8VfD2TU/ifrXiHSB4l1XRLoX1pqF5NPGqf2XqF5skjUKJBJsGZF2GQBiqX/AIL8SeHv%2BCm3gvxFq3xc8Q67Z6t8HvHD2Gg6rbaclpooXVvCWUtmtrSKdw%2B4Z%2B0Szn5BtK/NkA%2Bh6KKKACiiigAooooAKKKKACiiigArxD9of/gnR%2Bx9%2B03fHxH8R/g9ZW3iISebB4t8Ou2m6rFKPuyfaLcq0jA8jzN4HpXt9FYYjDYfF0/Z1oKUezSf5/mrPzPUyjO85yDGLF5ZiZ0Kq%2B1TnKDt2fK1dPqpKUX1iz85/jN/wRy%2BM2m%2BdeeAfGPgT4y6Xz/xIPjd4cCauU7qmu2Aju3cjgb2VAQCe9eRJ4ak/ZRItvH%2BmftQ/svrbnA1Pwv4jbxh4KiA6M4Cu2O4QliBkE5r9daRlV1KOoIIwQR1r5%2Btwtguf2mHk4S8/eX33jNfKp8j28Rn3DPEFTn4kyXD4io969FfUsT6uphlCnN9b1MO7vdvU%2BBfgl8a/wBv/wAaWi3X7MH/AAUA/Z%2B%2BPtsib30/xLpD6Lq3l4zgw2LZjfHeVQO5r0P/AIbh/b8%2BG3yfHX/glt4ku7eP7%2Bq/DTxhZ615w7lLUbZV%2BjNmvQPjZ/wTJ/YZ%2BPt22s%2BN/wBnrRLTVy/mJr3htG0q%2BWXqJDLaGMuwPQvu%2Bleej9gH9r74Lfvv2Sv%2BCj3jGKzh5i8M/Fewh8RWrr2iW4YLLAg7bASAMZrL6rneD2lNr%2B5NT/8AJKyv91RnP/qbwHmOuT59iMFLpTxlNVoeir0Y1NPOdKPm9yW3/wCC0P7H%2BhTJafG7QPiT8MJ2YKYPH/w6vrYqx/hJgSYD88V6f4C/4KKfsJfEzYvg/wDa28AzSyf6u2u/EkFpO30inZHP5V5TP%2B0D/wAFVfg/A1l8c/2G/CPxN0wKVutY%2BE/izyXKev2G/BklJHVVwM%2B1ed%2BJ/wBrf/gkT471FdE/a9/Y9b4b6zcts2fFH4NfZJi/cLcwRSYHfcXUEc01m2Lou1StBPtVpzpf%2BTJyh9zJl4V%2BKXK55Y8PmMFrfDyjVdu7jQquqvnh1bqfemh%2BIvD/AImsV1Pw3rtnqFs33bixuklQ/RkJFXK%2BHfBP/BPH/gjF8f7ka3%2Bzzd6AupSLlbn4d/Ey5juIu%2BPJiumCEehQGus/4dSXPhn958Iv%2BCg/7RPhvb/qrOT4gC%2Bs0/7YzRc/i1elTxuZzhzKjCa7wqp/%2BlRX5nxOMhxZlVd0Mdl/LNbx53CS/wC3a1KnL%2Btz62or5J/4Y2/4KV%2BE/m%2BH/wDwVdu7yFfu2Piz4Uabd7/96cOHH4Cl/wCEQ/4LaeFP%2BQN8YP2e/Fir/wBDDoGq2LuP%2B3UkA/pWn9pV4/Hhai9FCX/pM/0OX%2B18TD%2BJgqq9FCf/AKTU/Q%2BtaK%2BSv%2BFv/wDBZTwx/wAhz9j34SeJ9vX/AIRv4gTWW/6fa1OPxo/4bb/4KKaDx44/4JH66qr96Xw98VtK1Dd7hFRSPoeaP7Ywy%2BOFSPrSn%2BikH9v4OP8AEp1Y%2BtGp%2BkZI%2BtaK%2BSv%2BHn3xN0T/AJHj/gl9%2B0Vb4%2B%2BdC8Iw6mB9PLmXNH/D4f4Jad/yOf7NPx68OY%2B//bfwruY9v12O9H9uZUviqW9YzX5wX5h/rHkq%2BKty/wCKNSP501%2BZ9a0V8lr/AMFu/wDgnZZHb4r%2BKWv6A2cFdY8BasmD77LZq2dJ/wCCyX/BM7WsGz/aw0ZM9PtemX1v/wCjYFxTjneTSdliYf8AgUf1aKjxFw/N2WLp3/xxX5tH03RXhOl/8FPP%2BCeusY%2ByftieAUz0%2B1eIIoP/AEYVroNO/bt/Yi1fH9mftifC2cn%2BGPx/pxb8vOzXRHMcvn8NaD/7fj/8kdUM1yqp8OIpv/t%2BH/yZ6tRXDWH7T/7NOq4/sv8AaH8DXOen2fxbZvn8pa2bH4tfCrU8f2b8TPD9xnp5GtQPn8nreNehL4Zp/Nf5nRHE4afw1Iv0lF/kzoKKqWeu6HqGDYazaT56eTcK38jVutE09jZNPYKKKKYwrxnxx/ykL%2BF//ZGfHn/p28IV7NXjPjj/AJSF/C//ALIz48/9O3hCgD2aiiigAooooAKKKKACvzD%2BJvjbRfGup/Dr9nDWpt3h/QPjf8VPij8RkB4TSNF8X69JCkg7xzTB0OeMov4fp5X4vSaL40ufh7%2B1b8SI3Y638Qf2htc%2BCnwzEgIKQ3Hi7ULzUI17skhmfp/ErdcGvA4krSpZdypXu9fSK57f9vNQj/28dGWZDPi3iXLMgWkMXiKUKj/lpRl7SrJ9kqdOV32uffH/AASO%2BHmtR/s3XH7UXxGHneN/jbrM3i3xJdsv3YZXYWVvHnkQx2%2B1kX%2BHzmA4xX1TWR4A8F6L8N/AmifDvw3D5enaDpFtp1hHjG2GCJYkH4KorXr08BhVgsFTo9YpXfd7yfzk2/me1xbnj4l4mxeZ2tGrUk4R6Qpp8tKCXRQpRpwSWiUbepRRRXYfOhRRRQAUUUUAFFFFABRRRQAUUUUAFFFFABRRRQAUUUUAFFFFABRRRQAUUUUAFFFFABRRRQAUUUUAFFFFABRRRQAV4z%2By/wD8lv8A2jv%2ByzWP/qFeF69mrxn9l/8A5Lf%2B0d/2Wax/9QrwvQB7NRRRQAUUUUAFFFFABRRRQAUUUUAFFFFABRRRQAUUUUAFFFFABRRRQAUUUUAFeM%2BOP%2BUhfwv/AOyM%2BPP/AE7eEK9mrxnxx/ykL%2BF//ZGfHn/p28IUAezUUUUAFFFFABRRRQAUUUUAFFFFABRRRQAUUUUAFFFFABVbVtH0nX9Ol0jXdLtr20nXbPa3cCyRyD0ZWBBH1qzRSaTVmVGUoSUouzXVaM%2Bf/il/wSx/4J9fGCR7rxX%2Byx4Xtbl23fbfDtu%2BkzB%2Bu/fZNES2ecnPvmuIP/BKvUvAP779mn9vP42eBdn/AB76Xc%2BKBq%2BmRemLW5Xn8XORX1vRXm1MmyupPn9ilLvH3X98HF/mfa4PxJ48wVBYdZjUqUl9iq1Xh/4BiI14r5cvqfJP/Cq/%2BCynwv8A%2BRO/am%2BEnxOhj/g8eeCp9HmkX0B05iu73PGetH/DW3/BTb4dfJ8WP%2BCZ0HiG2T/W6v8ADr4jWk2f920nUTH86%2BtqKj%2By50/4OIqR9ZKa%2B6cW/wDyY6v9fMNi/wDkZZPgq3dxpSw8v/AsNVpxv/3Ct5M%2BSf8Ah798J/Cn7v48fswfHH4c7P8AXXXif4bzm1HqVlt2k3r7ha6zwJ/wVp/4Jx/EQouhfta%2BFrUv/Dr0kul4Pv8AbI4sfjX0VXJ%2BO/gL8DfikHHxN%2BDHhTxEJPv/ANu%2BHba73fXzUbNHsM6p/DXhP/FTa/GEv0F/anhljP4%2BWYmg%2B9HFRqJekcTQv/5UJvBPxp%2BDnxLVX%2BHHxZ8M%2BIA4yh0TXre7DD28p2zXTV84eNv%2BCRP/AATe8fM0ms/sneHbV2OQ2hSXGmbT6gWksYFcz/w53%2BBXh/n4PftC/HD4f7f9UnhH4n3MSJ6DEyy5Htmj2%2BdU/ioQl/hqNfhOH6h/Zfhliv4OaYmg%2B1XCRqJf9vYfEXfygj61IDAqwBB6g1i6v8N/h3r5J17wFot7u%2B99r0qGTP8A30pr5k/4YD/bR8J/8km/4KxfEK1C/wCrXxj4U0/XvwYzbM/Wl/4VT/wWZ8Hf8i5%2B1f8ABzxls%2B7/AMJd4GudO3/732Fjj8KUsfiLWq4Sfy9nP8pJ/gTLgnh7Fq2Gz7CT8qscTRfz9ph6kV/4Ez3XVP2Uf2W9cz/bX7NngC8z1%2B1eDrGTP/fURrn9R/4J9fsI6rk3v7GfwtJPVo/AenxsfxWIGvKR8UP%2BCz3hLjxD%2By78FvF%2B373/AAinjW70/f8AT7apx%2BNL/wANx/t/%2BGuPiN/wSW8URqv3pfC/xI0zVdw9QiKp/A81zyxmUv8Ai4eS/wAVB/moS/M5Z%2BE2LxP%2B7zwFf/BisG2/RVHRl%2BB3Oof8Et/%2BCeGpkm5/Y%2B8DLn/n30dYv/QMVjXv/BHz/gmrqGfP/ZL8Prn/AJ4XV3F/6BMK5/8A4etT6F8nxG/4J4/tJaJj/WXKfDcXdsv/AG1jm5/Kj/h9Z%2BwzpXHxB1Pxv4SI%2B%2BPEfw81OLZ9fLhkrCVfhOXxqkv8UFH/ANKpxOeXgdxVV/h5H7X/AK9QoVvu9jVqv8PkWrz/AIIk/wDBL2%2BJM37LFquf%2BePinVo//QLsVU/4cdf8E0If%2BQb8CNRs/T7L461kY/O7NdF4e/4LAf8ABNfxPt/s39rPw/Fu6f2ja3dn%2Bfnwpiu40D9vr9hzxPtGiftgfDOZ2%2B7E3jexSQ/8AaUN%2BlXDD8JVvgjQfp7P/NHh4zwgzfAt/WuH6sPXCVF%2BVF/meS/8OTP2B4v%2BPHwn4utfT7P8QtUGPznNH/Dln9i9OLW8%2BIkA7CL4j6iP5yGvo7QvjZ8GfFG3/hGfi54Y1Hd937Br9vNn6bHNdLFNFcRiaCVXRhlWRsg/jXXHJsimrwoQfol%2BjPm6/CGU4WXLWwMYPtKm4v7mo/kfJo/4Iw/sjr/q/FvxRQei/Eu//wDi6p/BT9jH4Tfsif8ABQvwZ/wq7WvFV5/wkPwZ8Zfbv%2BEm8TT6js8jVvCuzy/OJ8vPnPux97C5%2B6K%2BwK8Z8cf8pC/hf/2Rnx5/6dvCFdFDKstw1VVKVKMZLZpf8EMNkmUYOsqtChGMls0nft3Z7NRRRXoHqBXO/Ff4r%2BAfgj4CvfiZ8TdcbT9HsHgjmmis5rmWSWaZIIIIoIEeWeaWaWOKOKNGkkkkREVmYA9FXkH7a/w38ffEP4T6RffDLwy2u6x4T8f%2BHfE8Ph1LuGB9Wi0/U7e4nto5J3SJZjCkhi810jMqxh3RSXUA27L9q34CX3wLuv2kU8dND4QsZJ4b69vNIu7e5trmG5NpJaSWUsS3SXQuVMH2VohMZcRhC5CnHv8A9uX9mvTfh1a/E268U679kvPET6Db6PF4E1mTXG1RIXuHszpC2h1BZlt43uChtwRAvnHEfz15X4V%2BBPjvxP8As7fFDw98ZP2fvGdtd%2BO/G95440/QPDmv6MupaXcJfwSadbwzte/Zl1KI2Freks5tBLJs86UBs%2BffCz9l39qb4OeMbb9rrU/hx418da3qPxk1XxJq/gjWfEOgf8JGmnXPhWy0KKZ5YprbSftSyaZDI0MEqRR290yIzvFtkAPtzwL438I/EzwVpHxG8AeILbVtC17TINR0bVLOTdFd2s0ayRSoe6sjKw9jX52/CfS9O%2BLH7Znwl/Z/0qzjFj4O%2BLfxd%2BJfiqCNf9ZMvjTWrOwmb/aW43cnsQBjAr7C/Za%2BAvxD%2BGP7FfhP4F%2BJPGd14Z8UWvh1U1LVPDJtbh9JvJXM0sdsbuCaCVYnkaJWkhZWVAdgyAPlL/giZ8MfEc37QP7THxh8Y%2BJr/X30P4v%2BJPA%2Bh65qsMCXM6W/iDUry9eQW8UUIeSa5ikYRRxoGJ2oowB5WaQdb2NBLSVSN/8ADG839/LFH3nAlajl0syzabtLD4Wqqff2uI5cLC3nGNarL5X6H6JUUUV6p8GFFFFABRRRQAUUUUAFFFFABRRRQAUUUUAFFFFABRRRQAUUUUAFFFFABRRRQAUUUUAFFFFABRRRQAUUUUAFFFFABRRRQAV4z%2By//wAlv/aO/wCyzWP/AKhXhevZq8Z/Zf8A%2BS3/ALR3/ZZrH/1CvC9AHs1FFFABRRRQAUUUUAFFFFABRRRQAUUUUAFFFFABRRRQAUUUUAFFFFAHHftB/GbQv2d/gd4s%2BOfiTTLq%2Bs/CmgXOpSafY7fPvGijLJbxbiF8yRgsa7iBucZIGTXnvgv9sjUNL8F/FXVv2lfhvZ%2BDda%2BDumf2t4s07w/4ibWrSTTG0830d1bXMltavJlI7iJkeFCstu4BZCjt6F%2B0J8GdD/aJ%2BBviz4GeJNUurCz8V6Bc6bJqFjt8%2BzaWMqlxHuBXzI2KyLuBG5BkEZFeYeF/2MPGer6L8SbD9ob4vaN4tuPi/pM2kePZtF8HS6TG2nDThYW9tZI9/cm2CK91LI0jTmSS6bb5SqqAA3P2Zf2mPiD8XfGWv/Cv40/Biz8D%2BLNE8N6L4jXS9N8UHV4JdK1U3sdszTta2xS4SbT7yKaEI6oUQrLIsgNN8cf8pC/hf/2Rnx5/6dvCFO/Zl/Zn%2BIXwi8Za/wDFT40/Gez8c%2BLNb8N6J4cXU9N8LHSIItK0o3slsrQNdXJe4ebULyWWYOiuXQLFGsYFeZ/Gb4c6p8Lv%2BCjfgP4ifssfs4/DW68XeKvhR43fxhf6vqzeHZNSSPVPCeyae7s9MvJbuRWbCrIgAEjkOPusAfWFFeM/8Jx/wUL/AOjX/gz/AOH41b/5l6P%2BE4/4KF/9Gv8AwZ/8Pxq3/wAy9AHs1FeM/wDCcf8ABQv/AKNf%2BDP/AIfjVv8A5l6P%2BE4/4KF/9Gv/AAZ/8Pxq3/zL0AezUV846T%2B0d%2B3brHxn1/4HW/7KHwkXVPDvhfSNdvLl/jrqnkSQajc6lbwohHhjcXVtLnLAqAA8eCxLBeo/4Tj/AIKF/wDRr/wZ/wDD8at/8y9AHs1FeM/8Jx/wUL/6Nf8Agz/4fjVv/mXo/wCE4/4KF/8ARr/wZ/8AD8at/wDMvQB7NRXjP/Ccf8FC/wDo1/4M/wDh%2BNW/%2BZeuX8A/tHft2/ETxX438IaP%2Byh8JIbjwH4oi0LVZLn466oEnnk0rT9TDxbfDBJTydRhUlgp3o4xgBmAPo6ivGf%2BE4/4KF/9Gv8AwZ/8Pxq3/wAy9H/Ccf8ABQv/AKNf%2BDP/AIfjVv8A5l6APZqK8Z/4Tj/goX/0a/8ABn/w/Grf/MvR/wAJx/wUL/6Nf%2BDP/h%2BNW/8AmXoA9mor5x%2BEX7R37dvxl8KXfi/w5%2Byh8JLa3s/FGt6FJHe/HXVFcz6Xqt1pk7jb4YYbGmtJGQ5yUZSQpyo6j/hOP%2BChf/Rr/wAGf/D8at/8y9AHs1FeM/8ACcf8FC/%2BjX/gz/4fjVv/AJl6P%2BE4/wCChf8A0a/8Gf8Aw/Grf/MvQB7NRXjP/Ccf8FC/%2BjX/AIM/%2BH41b/5l65f4I/tHft2/Hj4MeEPjj4V/ZQ%2BElrpfjPwvp%2Bu6bbah8ddUWeGC7to7iNJAnhhlDhZAGCswyDgkc0AfR1FeM/8ACcf8FC/%2BjX/gz/4fjVv/AJl6P%2BE4/wCChf8A0a/8Gf8Aw/Grf/MvQB7NRXjP/Ccf8FC/%2BjX/AIM/%2BH41b/5l65f43ftHft2/Af4MeL/jj4q/ZQ%2BEl1pfgzwvqGu6lbaf8ddUaeaC0tpLiRIw/hhVLlYyFDMoyRkgc0AfR1FeM/8ACcf8FC/%2BjX/gz/4fjVv/AJl6P%2BE4/wCChf8A0a/8Gf8Aw/Grf/MvQB7NRXjP/Ccf8FC/%2BjX/AIM/%2BH41b/5l6P8AhOP%2BChf/AEa/8Gf/AA/Grf8AzL0AezUV84/F39o79u34NeFLTxf4j/ZQ%2BElzb3nijRNCjjsvjrqjOJ9U1W10yBzu8MKNizXcbOc5CKxAY4U9R/wnH/BQv/o1/wCDP/h%2BNW/%2BZegD2ajr1rxn/hOP%2BChf/Rr/AMGf/D8at/8AMvR/wnH/AAUL/wCjX/gz/wCH41b/AOZegD0XxD8JPhT4uLHxZ8MvD2qbvvf2josE%2BfrvQ1w%2Bv/sGfsQ%2BKNza7%2ByD8M7h26zHwPYrJ/32sQb9apf8Jx/wUL/6Nf8Agz/4fjVv/mXrl/H37R37dvw78V%2BCPCGsfsofCSa48eeKJdC0qS2%2BOuqFIJ49K1DUy8u7wwCE8nTplBUMd7oMYJZcKmFwtX%2BJTi/WMX%2BaZ62Ez7Psvt9VxdWn/gq1Yf8ApNSP5C67/wAEjv8Agm74iLHUP2SfDMe7r9gNxa/l5MqYrmpf%2BCI3/BOKCRp/DXwb1bQpWOTJo/jnV4zn1w1ywH5V6Z/wnH/BQv8A6Nf%2BDP8A4fjVv/mXo/4Tj/goX/0a/wDBn/w/Grf/ADL1xzyXJ5u8sPD/AMAj%2BiR9HQ8TvEjDR5aWc4pLt9YqtfdKcl96Z5j/AMOdPgBYf8ij8e/jf4fx90aN8UbpNv03h6p/BT9k2P8AZc/4KFeDIrf9o34qePodb%2BDPjLy4fiZ4u/tUab5OreFc/ZT5aeUJPNG/ru8qPpjn1r/hOP8AgoX/ANGv/Bn/AMPxq3/zL1Q8D%2BB/2rPGP7Vnhz43fG74cfD3wzo3hn4e%2BIdDhh8K/EO%2B1q6u7rUr7RLhGZLjSLFIo0TS5QWDuxaVAFxki6GU5dhqqqUqai12cvy5rfgc2acf8Z55gJ4PMMbKrTna6lGk27NNe97BTWqW1RX2d1dP3WiiivQPjwooooAKKKKACvA/%2BCc/gzQ/CPwY8ZXejwFZdb%2BPnxK1HUZDjMk7eMtXjz%2BCRRqPZRXvlfJX7JXiz9s7T/h74os/hj8A/hhq%2BhJ8afiL/Z%2Bo698XdR027mX/AITPWSxktotAuUiIbcABM%2BQAcgnaE4xbTfQ0jVqQhKEXZStdd7O6v6PX1PrWivGf%2BE4/4KF/9Gv/AAZ/8Pxq3/zL0f8ACcf8FC/%2BjX/gz/4fjVv/AJl6ZmezUV4z/wAJx/wUL/6Nf%2BDP/h%2BNW/8AmXo/4Tj/AIKF/wDRr/wZ/wDD8at/8y9AHs1FfOPwR/aO/bt%2BPHwY8IfHHwr%2Byh8JLXS/GfhfT9d0221D466os8MF3bR3EaSBPDDKHCyAMFZhkHBI5rqP%2BE4/4KF/9Gv/AAZ/8Pxq3/zL0AezUV4z/wAJx/wUL/6Nf%2BDP/h%2BNW/8AmXo/4Tj/AIKF/wDRr/wZ/wDD8at/8y9AHs1FfOPxu/aO/bt%2BA/wY8X/HHxV%2Byh8JLrS/BnhfUNd1K20/466o080FpbSXEiRh/DCqXKxkKGZRkjJA5rqP%2BE4/4KF/9Gv/AAZ/8Pxq3/zL0AezUV4z/wAJx/wUL/6Nf%2BDP/h%2BNW/8AmXo/4Tj/AIKF/wDRr/wZ/wDD8at/8y9AHs1FeM/8Jx/wUL/6Nf8Agz/4fjVv/mXrl/i7%2B0d%2B3b8GvClp4v8AEf7KHwkube88UaJoUcdl8ddUZxPqmq2umQOd3hhRsWa7jZznIRWIDHCkA%2BjqK8Z/4Tj/AIKF/wDRr/wZ/wDD8at/8y9H/Ccf8FC/%2BjX/AIM/%2BH41b/5l6APZqK8Z/wCE4/4KF/8ARr/wZ/8AD8at/wDMvR/wnH/BQv8A6Nf%2BDP8A4fjVv/mXoA9mor5x8fftHft2/DvxX4I8Iax%2Byh8JJrjx54ol0LSpLb466oUgnj0rUNTLy7vDAITydOmUFQx3ugxgll6j/hOP%2BChf/Rr/AMGf/D8at/8AMvQB7NRXjP8AwnH/AAUL/wCjX/gz/wCH41b/AOZej/hOP%2BChf/Rr/wAGf/D8at/8y9AHs1FeM/8ACcf8FC/%2BjX/gz/4fjVv/AJl65fVv2jv27dH%2BM%2BgfA64/ZQ%2BEjap4i8L6vrtncp8ddU8iODTrnTbeZHJ8Mbg7NqkBUBSCEkyVIUMAfR1FeM/8Jx/wUL/6Nf8Agz/4fjVv/mXo/wCE4/4KF/8ARr/wZ/8AD8at/wDMvQB7NRXjP/Ccf8FC/wDo1/4M/wDh%2BNW/%2BZej/hOP%2BChf/Rr/AMGf/D8at/8AMvQB7NRXzjpP7R37dusfGfX/AIHW/wCyh8JF1Tw74X0jXby5f466p5EkGo3OpW8KIR4Y3F1bS5ywKgAPHgsSwXqP%2BE4/4KF/9Gv/AAZ/8Pxq3/zL0AezUV4z/wAJx/wUL/6Nf%2BDP/h%2BNW/8AmXo/4Tj/AIKF/wDRr/wZ/wDD8at/8y9AHs1FeM/8Jx/wUL/6Nf8Agz/4fjVv/mXrl/AP7R37dvxE8V%2BN/CGj/sofCSG48B%2BKItC1WS5%2BOuqBJ55NK0/Uw8W3wwSU8nUYVJYKd6OMYAZgD6Oorxn/AITj/goX/wBGv/Bn/wAPxq3/AMy9H/Ccf8FC/wDo1/4M/wDh%2BNW/%2BZegD2avGf2X/wDkt/7R3/ZZrH/1CvC9H/Ccf8FC/wDo1/4M/wDh%2BNW/%2BZerf7K3w5%2BNPg/WPih47%2BOmgeF9J1Tx98Qotcs9K8J%2BJbnVre1tYtB0fTFV7i4srNmkaTTpXKiLaFkQbmOcAHrdFFFABRRRQAUUUUAFFFFABRRRQAUUUUAFFFFABRRRQAUUUUAFFFFABRRRQAV8r/tPftafFz4YfGPxZrXgHw74Pk8MfB/w/wCH73xqda0i4m1XVLfV7%2BVLmCwuI7iNLLyLazjuMyRTi5kKRkQ%2BX5p%2BqK8Z%2BM/7EPw4%2BN3xSPxM1zxz4q0uLUbXSLXxf4a0a6tU07xTBpd7Je2MV8stvJMFjmmlz9nlgMschimMsYVAAezUUUUAFFFFAHzH4c/aV%2BJkP7f/AIo%2BD/xG1jw94T8Nr4gtNE8GRaj8ItZS68YwDQINRxB4ja7XTmlju7nUALQQvJ5dpMAoLNIv05Xlfiz9lqDx/wDGTSPin49%2BN/jXV9K8Pa7HrWgeALg6ZFo1jqEdu8Ec4aGyS9l2eZJIqTXUkYkfds%2BRAvqlABRRRQB4v/wUF%2BLvxw/Z%2B/ZH8afHr4BXvhSPWPBOhXeuXUHjDRbm%2Btru0tbaWZ7dEtrq2ZJXZEUSFyqAsSj8CvP/AB5%2B1p8XPBfx48W6n4U8O%2BEIvh54Q%2BMfhH4feMrObSLg63quq67BoqR6hDdpcLDHHB/bmkxmKS3leRIZ8Sx7UFew/tY/s42X7WnwI179n3Wvir4p8I6T4nspbHXL/wAILp32u5spYnimtt1/aXUaI6vyyIsgKja6854uD9gHwdP8RbP4i%2BKvjj4%2B11jrOk654m0bUJdKisfE%2BuaYkaWOrXsdtYRMtxEILTC2zQQMbG2LxMY8kA97ooooAK8X/bJ%2BLvxw%2BCVr4B8Y/Cy98Kf2NqHxM8OeHvF9j4g0W5ubq5tdV1mx00GzlhuoUtpI1uZZN8iTqSiLs5Jr2ivKv2rv2W3/AGqvDeheF5/j7438DW%2BheJLDXUbwXDo7Pd3tjeQXlm0p1LT7wbYri3jcLGEDcrJvU7QAecfs8/tK/EzW/wBqrxb8Efihq/h7wnp0PinW7fwT4Sk%2BEWs6Zc69bQukpv7fWri7%2Bwag7GSaWWK2gL8l2K4Yn6cryXSf2UQ/xk0X4y/Ef9oDx341m8L3d5d%2BE9C8QjSYbDR7q5t5LWS4iWw0%2B2llf7PNPCvnySqizvtAJBHrVABRRRQB4f8At3fFz48fs/fBrV/jr8KPGPgWx0/wtotzeXui%2BLPDN7f3PiG9yi2emWcltewfZ5riUi3RvKumaWeILCx%2BVvP/AII/tffGfXPiX4K/tbwZ4S0j4aeN/if4o%2BG3hXw1p2lzR6vol/oEOrb557kXDW80EjeH9TRYY7eIxq1sfMkywHp/7Sv7IMH7SXjzwR8QJv2gfHfhC58A3dze6LY%2BGItGns5L2VBGt5NBqenXiPPDH5iwyAKYxPKR8zZFXwH%2Bw18PfAfxlt/i7D8RfF2pQadrup69onhDUrmy/snStb1GN49Q1SBIrVJ/PnE92WV5nhRr65McUfmcAHtdFFFABXy/%2B1z8eP2l/gt8RNP8KaVD4A8a6P45h1q20X4cxeD76TWEtbTQ7q7kv7icXrxXVsLqK3tpIRaxA/b4UExkZEk%2BoK8Om/YmuI/2j/Ff7TWiftV/EvTtX8W6bDp1zpcMHh%2Be00%2BzhgaOG2s2udJlubeJZXe62LNtedy7hwdtADP2EP2g/G/x7%2BHt5dfFfx9o194u04Wba/4bsvhdq/hG80B57ZZRBc2Wr3U9w4Lb/LuAEjkVDtDbSa90rzf4Hfs3ad8GfE/iT4h6x8UvFPjjxV4risbfWPE/i5rBbl7SzE32W1SLT7W1to4o2ublxthDM1xIWZsjHpFABRRRQB8c/wDBQT9uP4qfsYeOf7T1zRdA8Y%2BEX0bUdbt/Csvw51Oylt003Rr7Ukk/4SKa6fTJ7v7Xpo2WKwJdCOZZQNsLSN69%2BzR8Xfjnq3xU8b/s9ftHXPhTUPE/hHSdD1qPWvBWkXNhY3NjqgvI0iMFzc3LrLFcaddqX83EiGJtkZJUVvjr%2Bwl4I/ac1q6tfj/8W/GvijwXcyXEi/DK8k02HRYpJrGayZt9vZR30gEdxMwSW6dA77tvyIF6f9nz9mbSPgHea94iu/ih4s8ceI/Ehs49W8VeNbize%2BltrSIxWtqPsdtbwrFEHlYYj3s88ruzs5NAHpVFFFABXxH%2B1P8AtlftZ/Bv41eIPhR4O8N%2BHPGup2Gi3Gu%2BGAnwP8QRyaKBqOmWqGFvtzjxNILHVLjzv7L8p4WhKyiMTCOvtyvD9e/Yt1PxL49PxO1r9rn4oza3p8F5F4NvCmgAeFVupoZJ/skY0nZOzRwLb7r1bpliZwpV3ZyAdV%2Byx8WH%2BMnwjg8WXvxM0bxVfw6jdWWqX2jeDL7w6La4ilZWtZtN1C4nurOeMYV45nD5%2BbaoYCvRq4b4B/AXw98APDOp6NpXinW/EGo6/r1xrfiTxJ4jmga91W/mCI08ot4oYExHFDEqQxRxqkSAKMEnuaACiiigAooooAKKKKACiiigCj4o8Q2HhLw1qPivVQ5tdMsZru5ES5by40LtgdzhTXzn%2BxN%2B0n8a/H/inR/Bnxs8PeDLMeOvhbZfEbwzD4M0q4tBpkd5cE3en3ZmuJRdzRvc2z/bEEAnaWYmCPaC/wBLXdpa39rLY3tuk0M0bRzRSqGV1IwVIPBBHGK8h/Zm/Yr8Bfswaq%2Br6B8QfFviWW28MWPhnw6PFl7azDQNCs3ke3021Nvbwlo1MnzSzma4kEcXmTP5a4APYqKKKACuF/ag8efEX4Wfs0fET4nfB/wouveLfDngXV9U8LaG1jNdDUdRt7OWW2tjDAyyzCSVETy42DtuwpBINd1Wd4t0S/8AEvhjUPD%2Bl%2BK9R0K5vbSSG31rSFga6sXZSBNELiKWIup5AkjdMj5lYZBAPLv2Kfi1P8UPhnfWWrfELw/rOp%2BHdVXTrzTNE%2BGGp%2BDn0NBbQSRWdxpWqXM9zC4RxIrt5aPFLFsTA3v7FXnnwH/Z20n4HXniXxHc/ETxJ4x8SeL9RhvPEXinxW9mLu6MNulvBEI7G2traKKONAFWOFMlnZizMzH0OgAooooA%2BXP2qP2sfih%2Bzh8XvHFl8StG8JeIvhfYfs7%2BL/HttoVvolwmqu2iDS1ntri5kuXt5op1vpwEFshUImXfLCu3/Zn%2BL/x81T4ueMv2df2ln8JXnijwx4Y8PeJY9V8FaTc2NlJZas%2BpW62xhubm5cyw3GkXYMokCyI8TeXGdy1B8Y/2FfDvx0%2BOrfGXx58dvHMumzeCtT8I33w9hg0X%2BxLvRtSW2%2B32khfTWvSJ2tIHZxdB1KEIyIzIek/Z3/Zd0P8AZ9vta8Rz/FDxb438Q6/a2Flf%2BJ/G1zaSXpsLFJFs7MfZLa3j8qIz3DglDI73Mru7s2aAPT6KKKACvkT41/tL/tbeDNd/aA8CW/hXwZ4svfAXh/wp4k%2BG1jpPw/1O/nWPUdV1KEJeWsV48uozwLpsc6m2FuS5IVflVq%2Bu68Ll/Yo8QxfHTxt8f9C/bQ%2BK2lat430ix0y5sbKz8MNaabbWVxcz2aWwl0V5P3RvLpQZnlLrORJ5hVCoB1f7Knxbm%2BMvwpHibUfido3inUbXVbmx1a60fwRf%2BGzZ3ETfNaz6ZqNxPdWk6KV3JMwYhlbaqsK9JrhPgH8A9A%2BAOhazY6f4t1zxHqvibxBLrnifxN4klt2vdVv5IYYPNkFtDDBGFgt7eFUiijRUhQBc5J7ugAooooA%2BNv2lv2u/2lv2ePjNB8NtZT4Z%2BNb7W4IJvCMOneFr20l8F3mpeIdM8PaRNqcr30wuop21ecFols5HFjdLGGXzDF7j%2Byr8X/iR8Rh4/wDh98Yjok/ir4aePG8NazqvhrTprOw1PzNL07Vre4ht5p55LfNrqlujxtNLiSOTDEEY4W2/4Jq%2BEmuviG/iH9pf4nazb/EnXjrmsW%2BpHQvMs9SiuIZ9Puba6i0tLpTYPb24tI3mkiiWFAyPzn1j4B/AXQ/gH4e1bTbLxfrniTVvEWvTa14n8UeJXtjf6vfSRxQ%2BdMLWCCBdkEFvAiRRRoscEaheCSAd1RRRQAy5%2B0/ZpPsezzth8rzc7d2OM45xmviD4rftc/tp/DT4ia58Nre28B%2BM9e8MXvhq31bx14I%2BCuv6tH4ct9Wa8e9sJdKs9Snu7maOGysbomKdP3d1C0sCAxNJ9vXcMlxay28N1JA8kbKs8QUvGSMBl3ArkdRkEeoNfPfwY/YC8QfAT4bXHw0%2BHf7dXxiijutWfU5tZvLLwnPqEt3K8slzPNM%2BhH7TJO8u6SScSPmNNhQDBAPWfgJ8Q7L4rfB3w/8AEKw%2BIGjeKk1PTxI%2Bv%2BH9JmsLS7kBKyFLWeaaW2KurI0MkjvGysrHcpA6%2BuS%2BBfwX8Jfs%2B/C/TvhT4Kub%2B4srCW6uJr7VbkTXV9d3VzLdXV1M4VQ0s1xPNK%2B1VXdIdqquFHW0AFUfE8PiS58N6hb%2BDdTsbLV5LKVdLvNTsHuraC4KERySwxyxNNGrYLIskZYAgOpO4XqzfGOg3/ijwtf%2BHdL8W6loNzeWrxQa1o4gN1YuRxNELiKWIup5AkjdDj5lYZFAHw98N/27P2tfjB8U9b%2BCXws034fJ4z02112%2Bk8Z%2BK/hdrWhrqmmaRa6LKljLol5fJqGnyvd%2BIdiTTzPH5UMlwkLrOgP2N8Avi1pvx8%2BBPgr466NpstnZ%2BNfCWm69aWcz7ngivLWO4WNiAMlRIAT6ivFtX/4JkeB9a1y%2B%2BIt3%2B0p8U0%2BIGrJeWutfEm2vdIh1a/0y6trW2m0wommizhtillaMPItopVkgWVZQ5Zj9B%2BC/B/hr4eeDtJ8AeDNJi0/R9D0yDT9JsIc7La2hjWOKNc84VFVR9KANOiiigDl/jTqPjjRvhbrWt/DnxDY6Xq1hZm6hvtQ8H3viBEjjIeUDTrGeC5vJGiV1SKGQOXZcK5%2BRvi34S/8ABRH4/eJPGmh6n43uPCPgTwZqU86%2BIPHF58DPEU1trF/Dr91pCJcyrfRp4ZnktbS1/cao0ksDyrG%2BdgSvtv4meDNd8e%2BEpvDnhv4pa/4NvJJY3i1/wzFYvdwbWBKqt/bXMDBgCpDxNwTjBwR4rdf8E5vCmoeD7j4bat%2B0h8TbvwxrmoTX/jzQJrjRxF4wu57xrq4mvpV00XEXmllhaOzltYhDEkaoo3bgD6JooooAKKKKACiiigAooooAKKKKACiiigAooooAKKKKACiiigAooooAKKKKACiiigAooooAKKKKACiiigAooooAKKKKACiiigAooooAKKKKACiiigAooooAKKKKACiiigAooooAKKKKACiiigAooooAKKKKACiiigAooooAKKKKACiiigAooooAKKKKACiiigAooooAKKKKACiiigAooooAKKKKACiiigAooooAKKKKACiiigAooooAKKKKACiiigAooooAKKKKACiiigAooooAKKKKACiiigAooooAKKKKACiiigAooooAKKKKACiiigAooooA/9k%3D\">"
            ]
          },
          "metadata": {
            "tags": []
          }
        }
      ]
    },
    {
      "cell_type": "markdown",
      "metadata": {
        "id": "4cFBABogDJ08",
        "colab_type": "text"
      },
      "source": [
        "# Submit a linear model"
      ]
    },
    {
      "cell_type": "code",
      "metadata": {
        "id": "hC1XX_OaDJ09",
        "colab_type": "code",
        "colab": {}
      },
      "source": [
        "## GRADED PART, DO NOT CHANGE!\n",
        "# Testing shapes \n",
        "grader.set_answer(\"9XaAS\", grading_utils.get_tensors_shapes_string([W, b, input_X, input_y, logits, probas, classes]))\n",
        "# Validation loss\n",
        "grader.set_answer(\"vmogZ\", s.run(loss, {input_X: X_val_flat, input_y: y_val_oh}))\n",
        "# Validation accuracy\n",
        "grader.set_answer(\"RMv95\", accuracy_score(y_val, s.run(classes, {input_X: X_val_flat})))"
      ],
      "execution_count": null,
      "outputs": []
    },
    {
      "cell_type": "code",
      "metadata": {
        "id": "wb6dgsT4DJ1E",
        "colab_type": "code",
        "colab": {}
      },
      "source": [
        "# you can make submission with answers so far to check yourself at this stage\n",
        "grader.submit(COURSERA_EMAIL, COURSERA_TOKEN)"
      ],
      "execution_count": null,
      "outputs": []
    },
    {
      "cell_type": "markdown",
      "metadata": {
        "id": "oGEgpkcKDJ1K",
        "colab_type": "text"
      },
      "source": [
        "# MLP with hidden layers"
      ]
    },
    {
      "cell_type": "markdown",
      "metadata": {
        "id": "WFoZFcO0DJ1M",
        "colab_type": "text"
      },
      "source": [
        "Previously we've coded a dense layer with matrix multiplication by hand. \n",
        "But this is not convenient, you have to create a lot of variables and your code becomes a mess. \n",
        "In TensorFlow there's an easier way to make a dense layer:\n",
        "```python\n",
        "hidden1 = tf.layers.dense(inputs, 256, activation=tf.nn.sigmoid)\n",
        "```\n",
        "\n",
        "That will create all the necessary variables automatically.\n",
        "Here you can also choose an activation function (remember that we need it for a hidden layer!).\n",
        "\n",
        "Now define the MLP with 2 hidden layers and restart training with the cell above.\n",
        "\n",
        "You're aiming for ~0.97 validation accuracy here."
      ]
    },
    {
      "cell_type": "code",
      "metadata": {
        "id": "1GI-um_QDJ1P",
        "colab_type": "code",
        "colab": {}
      },
      "source": [
        "# write the code here to get a new `step` operation and then run the cell with training loop above.\n",
        "# name your variables in the same way (e.g. logits, probas, classes, etc) for safety.\n",
        "### YOUR CODE HERE ###\n",
        "hidden1=tf.layers.dense(input_X,1024,activation=tf.nn.sigmoid)\n",
        "logits=tf.layers.dense(hidden1,10)\n",
        "\n",
        "probas =tf.nn.softmax(logits) ### YOUR CODE HERE ### apply tf.nn.softmax to logits\n",
        "classes = tf.argmax(probas,axis=1) ### YOUR CODE HERE ### apply tf.argmax to find a class index with highest probability\n",
        "\n",
        "# Loss should be a scalar number: average loss over all the objects with tf.reduce_mean().\n",
        "# Use tf.nn.softmax_cross_entropy_with_logits on top of one-hot encoded input_y and logits.\n",
        "# It is identical to calculating cross-entropy on top of probas, but is more numerically friendly (read the docs).\n",
        "loss = tf.reduce_mean(tf.nn.softmax_cross_entropy_with_logits(labels=input_y,logits=logits))### YOUR CODE HERE ### cross-entropy loss\n",
        "\n",
        "# Use a default tf.train.AdamOptimizer to get an SGD step\n",
        "step = tf.train.AdamOptimizer().minimize(loss) ### optimizer step that minimizes the loss\n",
        "\n"
      ],
      "execution_count": 32,
      "outputs": []
    },
    {
      "cell_type": "markdown",
      "metadata": {
        "id": "HYhyH2tkDJ1a",
        "colab_type": "text"
      },
      "source": [
        "# Submit the MLP with 2 hidden layers\n",
        "Run these cells after training the MLP with 2 hidden layers"
      ]
    },
    {
      "cell_type": "code",
      "metadata": {
        "id": "fhnrUwa0DJ1b",
        "colab_type": "code",
        "colab": {}
      },
      "source": [
        "## GRADED PART, DO NOT CHANGE!\n",
        "# Validation loss for MLP\n",
        "grader.set_answer(\"i8bgs\", s.run(loss, {input_X: X_val_flat, input_y: y_val_oh}))\n",
        "# Validation accuracy for MLP\n",
        "grader.set_answer(\"rE763\", accuracy_score(y_val, s.run(classes, {input_X: X_val_flat})))"
      ],
      "execution_count": null,
      "outputs": []
    },
    {
      "cell_type": "code",
      "metadata": {
        "id": "IadiNnJdDJ1f",
        "colab_type": "code",
        "colab": {}
      },
      "source": [
        "# you can make submission with answers so far to check yourself at this stage\n",
        "grader.submit(COURSERA_EMAIL, COURSERA_TOKEN)"
      ],
      "execution_count": null,
      "outputs": []
    },
    {
      "cell_type": "code",
      "metadata": {
        "id": "24CQvjEHDJ1j",
        "colab_type": "code",
        "colab": {}
      },
      "source": [
        ""
      ],
      "execution_count": null,
      "outputs": []
    }
  ]
}